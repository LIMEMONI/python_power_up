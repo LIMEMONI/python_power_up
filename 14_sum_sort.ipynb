{
 "cells": [
  {
   "cell_type": "markdown",
   "metadata": {},
   "source": [
    "## sum"
   ]
  },
  {
   "cell_type": "code",
   "execution_count": 1,
   "metadata": {},
   "outputs": [
    {
     "data": {
      "text/plain": [
       "[1, 2, 3, 4, 5, 6, 7, 8, 9]"
      ]
     },
     "execution_count": 1,
     "metadata": {},
     "output_type": "execute_result"
    }
   ],
   "source": [
    "a = [[1,2,3], [4,5,6],[7,8,9]]\n",
    "\n",
    "# a 리스트의 모든 요소를 합친 후 빈 리스트([])에 추가한다.\n",
    "sum(a,[])"
   ]
  },
  {
   "cell_type": "markdown",
   "metadata": {},
   "source": [
    "## sort"
   ]
  },
  {
   "cell_type": "code",
   "execution_count": 6,
   "metadata": {},
   "outputs": [
    {
     "name": "stdout",
     "output_type": "stream",
     "text": [
      "[[1, 10], [2, 40], [3, 30], [4, 30]]\n",
      "[[1, 10], [3, 30], [4, 30], [2, 40]]\n"
     ]
    }
   ],
   "source": [
    "b1 = [1,10]  \n",
    "b2 = [2,40]  \n",
    "b3 = [3,30] \n",
    "b4 = [4,30]  \n",
    "b_list = [b1,b2,b3,b4]  \n",
    "\n",
    "b_list.sort(key=lambda x: x[0])  # b_list를 첫 번째 요소를 기준으로 오름차순 정렬\n",
    "print(b_list)  # 정렬된 b_list 출력\n",
    "\n",
    "b_list.sort(key=lambda x: x[1])  # b_list를 두 번째 요소를 기준으로 오름차순 정렬\n",
    "print(b_list)  # 정렬된 b_list 출력"
   ]
  },
  {
   "cell_type": "markdown",
   "metadata": {},
   "source": [
    "- 1번 요소로 sort 할때 30으로 데이터가 같을 때는 이미 sort된 순서를 유지한다."
   ]
  },
  {
   "cell_type": "code",
   "execution_count": null,
   "metadata": {},
   "outputs": [],
   "source": []
  },
  {
   "cell_type": "code",
   "execution_count": null,
   "metadata": {},
   "outputs": [],
   "source": []
  }
 ],
 "metadata": {
  "kernelspec": {
   "display_name": "edu_env",
   "language": "python",
   "name": "python3"
  },
  "language_info": {
   "codemirror_mode": {
    "name": "ipython",
    "version": 3
   },
   "file_extension": ".py",
   "mimetype": "text/x-python",
   "name": "python",
   "nbconvert_exporter": "python",
   "pygments_lexer": "ipython3",
   "version": "3.9.17"
  }
 },
 "nbformat": 4,
 "nbformat_minor": 2
}
