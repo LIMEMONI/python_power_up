{
 "cells": [
  {
   "cell_type": "markdown",
   "metadata": {},
   "source": [
    "## any all (generator expression)"
   ]
  },
  {
   "cell_type": "code",
   "execution_count": 5,
   "metadata": {},
   "outputs": [],
   "source": [
    "nums = [1,7,5,6,9,11,15,1,5,19,21,29]"
   ]
  },
  {
   "cell_type": "code",
   "execution_count": 6,
   "metadata": {},
   "outputs": [
    {
     "data": {
      "text/plain": [
       "[False,\n",
       " False,\n",
       " False,\n",
       " True,\n",
       " False,\n",
       " False,\n",
       " False,\n",
       " False,\n",
       " False,\n",
       " False,\n",
       " False,\n",
       " False]"
      ]
     },
     "execution_count": 6,
     "metadata": {},
     "output_type": "execute_result"
    }
   ],
   "source": [
    "[n%2==0 for n in nums]"
   ]
  },
  {
   "cell_type": "code",
   "execution_count": 7,
   "metadata": {},
   "outputs": [
    {
     "data": {
      "text/plain": [
       "True"
      ]
     },
     "execution_count": 7,
     "metadata": {},
     "output_type": "execute_result"
    }
   ],
   "source": [
    "any([n%2==0 for n in nums])"
   ]
  },
  {
   "cell_type": "code",
   "execution_count": 8,
   "metadata": {},
   "outputs": [
    {
     "data": {
      "text/plain": [
       "True"
      ]
     },
     "execution_count": 8,
     "metadata": {},
     "output_type": "execute_result"
    }
   ],
   "source": [
    "any(n%2==0 for n in nums)"
   ]
  },
  {
   "cell_type": "code",
   "execution_count": 20,
   "metadata": {},
   "outputs": [
    {
     "data": {
      "text/plain": [
       "False"
      ]
     },
     "execution_count": 20,
     "metadata": {},
     "output_type": "execute_result"
    }
   ],
   "source": [
    "all(n%2==0 for n in nums)"
   ]
  },
  {
   "cell_type": "code",
   "execution_count": 9,
   "metadata": {},
   "outputs": [
    {
     "data": {
      "text/plain": [
       "True"
      ]
     },
     "execution_count": 9,
     "metadata": {},
     "output_type": "execute_result"
    }
   ],
   "source": [
    "# generator expression은 리스트 컴프리헨션과 유사한 구문이지만, 괄호를 사용하여 생성된다.\n",
    "# 리스트 컴프리헨션과 달리, generator expression은 한 번에 모든 값을 생성하지 않고 필요한 값만 생성한다.\n",
    "# 이는 메모리를 효율적으로 사용할 수 있게 해준다.\n",
    "\n",
    "# 이렇식으로 리스트를 사용하면 리스트 안의 내용을 모두 계산해서 메모리에 담아두고 진행하기 때문에 비효율적\n",
    "any([n%2==0 for n in nums])\n",
    "\n",
    "# generator expression을 활용하면 True가 나오는 순간 계산이 종료되고 True가 반환되기 때문에 효율적\n",
    "any(n%2==0 for n in nums)"
   ]
  },
  {
   "cell_type": "code",
   "execution_count": 10,
   "metadata": {},
   "outputs": [
    {
     "name": "stdout",
     "output_type": "stream",
     "text": [
      "1\n",
      "4\n",
      "9\n",
      "16\n",
      "25\n"
     ]
    }
   ],
   "source": [
    "\n",
    "# generator expression을 사용하여 1부터 10까지의 제곱 값을 생성하는 예제\n",
    "squares = (x**2 for x in range(1, 11))\n",
    "\n",
    "# generator expression은 iterator로 동작하며, next() 함수를 사용하여 값을 하나씩 가져올 수 있다.\n",
    "print(next(squares))  # 1\n",
    "print(next(squares))  # 4\n",
    "print(next(squares))  # 9\n",
    "print(next(squares))  # 16\n",
    "print(next(squares))  # 25\n"
   ]
  },
  {
   "cell_type": "code",
   "execution_count": 11,
   "metadata": {},
   "outputs": [
    {
     "name": "stdout",
     "output_type": "stream",
     "text": [
      "36\n",
      "49\n",
      "64\n",
      "81\n",
      "100\n"
     ]
    }
   ],
   "source": [
    "\n",
    "# for 루프를 사용하여 generator expression의 모든 값을 순회할 수 있다.\n",
    "for square in squares:\n",
    "    print(square)\n",
    "\n",
    "# generator expression은 한 번 순회한 후에는 다시 사용할 수 없다.\n",
    "# 따라서, 필요한 경우에는 새로운 generator expression을 생성해야 한다."
   ]
  },
  {
   "cell_type": "markdown",
   "metadata": {},
   "source": [
    "### lazy evaluation"
   ]
  },
  {
   "cell_type": "code",
   "execution_count": 12,
   "metadata": {},
   "outputs": [],
   "source": [
    "# lazy evaluation은 계산이 필요한 시점까지 연산을 늦추는 기법입니다.\n",
    "# 이를 통해 불필요한 연산을 피하고, 효율적인 계산을 할 수 있습니다.\n",
    "\n",
    "# 예를 들어, 리스트의 원소들을 제곱한 값을 구하는 경우를 생각해봅시다.\n",
    "# 일반적인 방법으로는 모든 원소를 먼저 제곱한 후에 결과를 반환합니다.\n",
    "# 하지만 lazy evaluation을 사용하면, 필요한 원소만 제곱하여 결과를 반환할 수 있습니다.\n",
    "\n",
    "# 제곱 함수를 정의합니다.\n",
    "def square(x):\n",
    "    print(\"Calculating square of\", x)\n",
    "    return x ** 2\n"
   ]
  },
  {
   "cell_type": "code",
   "execution_count": 17,
   "metadata": {},
   "outputs": [],
   "source": [
    "\n",
    "# 리스트를 정의합니다.\n",
    "numbers = [1, 2, 3, 4, 5]\n",
    "\n",
    "# lazy evaluation을 사용하여 제곱 값을 구합니다.\n",
    "squared_numbers = (square(n) for n in numbers)\n",
    "\n",
    "# 연산 및 print된 결과가 출력되지 않는다."
   ]
  },
  {
   "cell_type": "code",
   "execution_count": 18,
   "metadata": {},
   "outputs": [
    {
     "name": "stdout",
     "output_type": "stream",
     "text": [
      "Calculating square of 1\n",
      "Calculating square of 2\n",
      "Calculating square of 3\n",
      "Calculating square of 4\n",
      "Calculating square of 5\n"
     ]
    },
    {
     "data": {
      "text/plain": [
       "[1, 4, 9, 16, 25]"
      ]
     },
     "execution_count": 18,
     "metadata": {},
     "output_type": "execute_result"
    }
   ],
   "source": [
    "\n",
    "# 결과를 출력합니다.\n",
    "list(squared_numbers)"
   ]
  },
  {
   "cell_type": "code",
   "execution_count": 19,
   "metadata": {},
   "outputs": [
    {
     "data": {
      "text/plain": [
       "[]"
      ]
     },
     "execution_count": 19,
     "metadata": {},
     "output_type": "execute_result"
    }
   ],
   "source": [
    "# generator expression를 사용했기 때문에 재사용 불가\n",
    "list(squared_numbers)"
   ]
  }
 ],
 "metadata": {
  "kernelspec": {
   "display_name": "edu_env",
   "language": "python",
   "name": "python3"
  },
  "language_info": {
   "codemirror_mode": {
    "name": "ipython",
    "version": 3
   },
   "file_extension": ".py",
   "mimetype": "text/x-python",
   "name": "python",
   "nbconvert_exporter": "python",
   "pygments_lexer": "ipython3",
   "version": "3.9.17"
  }
 },
 "nbformat": 4,
 "nbformat_minor": 2
}
