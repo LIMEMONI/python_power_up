{
 "cells": [
  {
   "cell_type": "markdown",
   "metadata": {},
   "source": [
    "## decorator"
   ]
  },
  {
   "cell_type": "code",
   "execution_count": 1,
   "metadata": {},
   "outputs": [],
   "source": [
    "def deco(f):\n",
    "    print('deco!!!')\n",
    "    return f"
   ]
  },
  {
   "cell_type": "code",
   "execution_count": 2,
   "metadata": {},
   "outputs": [
    {
     "name": "stdout",
     "output_type": "stream",
     "text": [
      "deco!!!\n"
     ]
    }
   ],
   "source": [
    "@deco\n",
    "def double(num):\n",
    "    return num * 2\n",
    "\n",
    "## double = deco(double) 이라는 게 실행되는 셈이다."
   ]
  },
  {
   "cell_type": "code",
   "execution_count": 3,
   "metadata": {},
   "outputs": [
    {
     "name": "stdout",
     "output_type": "stream",
     "text": [
      "106\n"
     ]
    }
   ],
   "source": [
    "print(double(53))"
   ]
  },
  {
   "cell_type": "code",
   "execution_count": 4,
   "metadata": {},
   "outputs": [],
   "source": [
    "# 그래서 이렇게 바꿔버리면\n",
    "\n",
    "def deco(f):\n",
    "    print('deco!!!')\n",
    "    return 50"
   ]
  },
  {
   "cell_type": "code",
   "execution_count": 5,
   "metadata": {},
   "outputs": [
    {
     "name": "stdout",
     "output_type": "stream",
     "text": [
      "deco!!!\n"
     ]
    }
   ],
   "source": [
    "@deco\n",
    "def double(num):\n",
    "    return num * 2\n",
    "\n",
    "## 50 = deco(double) 이렇게 실행되는 셈이라서"
   ]
  },
  {
   "cell_type": "code",
   "execution_count": 6,
   "metadata": {},
   "outputs": [
    {
     "ename": "TypeError",
     "evalue": "'int' object is not callable",
     "output_type": "error",
     "traceback": [
      "\u001b[1;31m---------------------------------------------------------------------------\u001b[0m",
      "\u001b[1;31mTypeError\u001b[0m                                 Traceback (most recent call last)",
      "Cell \u001b[1;32mIn[6], line 1\u001b[0m\n\u001b[1;32m----> 1\u001b[0m \u001b[38;5;28mprint\u001b[39m(\u001b[43mdouble\u001b[49m\u001b[43m(\u001b[49m\u001b[38;5;241;43m53\u001b[39;49m\u001b[43m)\u001b[49m)\n",
      "\u001b[1;31mTypeError\u001b[0m: 'int' object is not callable"
     ]
    }
   ],
   "source": [
    "print(double(53))"
   ]
  },
  {
   "cell_type": "code",
   "execution_count": 7,
   "metadata": {},
   "outputs": [
    {
     "name": "stdout",
     "output_type": "stream",
     "text": [
      "50\n"
     ]
    }
   ],
   "source": [
    "print(double)"
   ]
  },
  {
   "cell_type": "markdown",
   "metadata": {},
   "source": [
    "- double은 함수가 아니기 때문에 오류가 나게 된다."
   ]
  },
  {
   "cell_type": "code",
   "execution_count": 9,
   "metadata": {},
   "outputs": [
    {
     "name": "stdout",
     "output_type": "stream",
     "text": [
      "wake up?\n",
      "call me\n"
     ]
    }
   ],
   "source": [
    "from typing import Any\n",
    "\n",
    "\n",
    "class Deco():\n",
    "    def __init__(self, num):\n",
    "        print('wake up?')\n",
    "        self.num = num\n",
    "        \n",
    "    def __call__(self, f):\n",
    "        print('call me')\n",
    "        return f\n",
    "    \n",
    "def bicycle(n):\n",
    "    return n*2\n",
    "\n",
    "bicycle = Deco(3)(bicycle) # f 인자를 받았기 때문"
   ]
  },
  {
   "cell_type": "code",
   "execution_count": 10,
   "metadata": {},
   "outputs": [
    {
     "name": "stdout",
     "output_type": "stream",
     "text": [
      "wake up?\n"
     ]
    }
   ],
   "source": [
    "@Deco # decorator 실행 but f인자를 안받음\n",
    "def bicycle(n):\n",
    "    return n*2"
   ]
  },
  {
   "cell_type": "code",
   "execution_count": 13,
   "metadata": {},
   "outputs": [
    {
     "name": "stdout",
     "output_type": "stream",
     "text": [
      "call me\n"
     ]
    },
    {
     "data": {
      "text/plain": [
       "3"
      ]
     },
     "execution_count": 13,
     "metadata": {},
     "output_type": "execute_result"
    }
   ],
   "source": [
    "# 하지만 나머지 함수를 받음\n",
    "\n",
    "bicycle(3)"
   ]
  },
  {
   "cell_type": "code",
   "execution_count": 14,
   "metadata": {},
   "outputs": [
    {
     "name": "stdout",
     "output_type": "stream",
     "text": [
      "wake up?\n",
      "call me\n"
     ]
    }
   ],
   "source": [
    "@Deco(3) # decorator 실행 but f인자를 안받음\n",
    "def bicycle(n):\n",
    "    return n*2"
   ]
  },
  {
   "cell_type": "code",
   "execution_count": 16,
   "metadata": {},
   "outputs": [
    {
     "data": {
      "text/plain": [
       "6"
      ]
     },
     "execution_count": 16,
     "metadata": {},
     "output_type": "execute_result"
    }
   ],
   "source": [
    "bicycle(3)"
   ]
  },
  {
   "cell_type": "markdown",
   "metadata": {},
   "source": [
    "- 응용법은 너무 무궁무진 하다......"
   ]
  },
  {
   "cell_type": "markdown",
   "metadata": {},
   "source": [
    "## classmethod"
   ]
  },
  {
   "cell_type": "code",
   "execution_count": 18,
   "metadata": {},
   "outputs": [],
   "source": [
    "class Korean:\n",
    "    country = 'Korea'\n",
    "    \n",
    "    def i_change(self, name):\n",
    "        self.country = name\n",
    "        \n",
    "    @classmethod\n",
    "    def c_change(cls, name):\n",
    "        cls.country = name"
   ]
  },
  {
   "cell_type": "code",
   "execution_count": 19,
   "metadata": {},
   "outputs": [
    {
     "name": "stdout",
     "output_type": "stream",
     "text": [
      "Korea\n",
      "Korea\n"
     ]
    }
   ],
   "source": [
    "# class를 사용해서 instance 생성\n",
    "a, b = Korean(), Korean()\n",
    "\n",
    "# country 변수를 확인\n",
    "\n",
    "print(a.country)\n",
    "print(b.country)"
   ]
  },
  {
   "cell_type": "code",
   "execution_count": 20,
   "metadata": {},
   "outputs": [
    {
     "name": "stdout",
     "output_type": "stream",
     "text": [
      "north korea\n",
      "north korea\n"
     ]
    }
   ],
   "source": [
    "# classmethod를 decorator를 활용 class property를 변경\n",
    "a.c_change('north korea')\n",
    "\n",
    "print(a.country)\n",
    "print(b.country)"
   ]
  },
  {
   "cell_type": "code",
   "execution_count": 21,
   "metadata": {},
   "outputs": [
    {
     "name": "stdout",
     "output_type": "stream",
     "text": [
      "mexico\n",
      "north korea\n"
     ]
    }
   ],
   "source": [
    "# a 인스턴스의 개별 property를 생성\n",
    "a.i_change('mexico')\n",
    "\n",
    "print(a.country)\n",
    "print(b.country)"
   ]
  },
  {
   "cell_type": "code",
   "execution_count": 22,
   "metadata": {},
   "outputs": [
    {
     "name": "stdout",
     "output_type": "stream",
     "text": [
      "mexico\n",
      "japan\n"
     ]
    }
   ],
   "source": [
    "# class property를 변경\n",
    "# 개별 property를 생성한 a는 값이 변경되지 않는다.\n",
    " \n",
    "b.c_change('japan')\n",
    "\n",
    "print(a.country)\n",
    "print(b.country)"
   ]
  },
  {
   "cell_type": "markdown",
   "metadata": {},
   "source": [
    "1. **클래스 변수 `country`**: `Korean` 클래스에 선언된 `country`는 모든 인스턴스에 공통적으로 적용됩니다. 클래스 레벨에서 정의되므로, 클래스 자체 또는 모든 인스턴스에서 동일하게 접근할 수 있습니다.\n",
    "\n",
    "2. **`i_change` 메서드로 생성된 인스턴스 변수 `country`**:\n",
    "   - `i_change` 메서드를 호출할 때, 이 메서드는 해당 인스턴스에 새로운 `country` 인스턴스 변수를 생성하거나 기존의 값을 변경합니다.\n",
    "   - 이렇게 생성된 인스턴스 변수 `country`는 해당 인스턴스에만 국한됩니다. 다른 인스턴스나 클래스 변수 `country`에는 영향을 미치지 않습니다.\n",
    "\n",
    "3. **`c_change` 메서드와 클래스 변수의 영향**:\n",
    "   - `c_change` 메서드는 클래스 변수 `country`를 변경합니다.\n",
    "   - 만약 어떤 인스턴스가 개별적인 `country` 인스턴스 변수를 갖고 있지 않다면, 그 인스턴스는 `c_change`에 의한 클래스 변수의 변경을 반영합니다.\n",
    "   - 그러나 특정 인스턴스에서 `i_change`를 통해 `country`가 이미 설정되었다면, 그 인스턴스는 클래스 변수의 변경에 영향을 받지 않고, 자신의 인스턴스 변수 `country` 값을 유지합니다.\n",
    "\n",
    "요약하자면, 인스턴스 변수가 설정되지 않은 인스턴스는 클래스 변수의 변경을 반영합니다. 그러나 인스턴스 변수가 이미 설정된 경우, 해당 인스턴스는 클래스 변수의 변경으로부터 독립적인 상태를 유지합니다."
   ]
  },
  {
   "cell_type": "code",
   "execution_count": null,
   "metadata": {},
   "outputs": [],
   "source": []
  },
  {
   "cell_type": "markdown",
   "metadata": {},
   "source": [
    "## property"
   ]
  },
  {
   "cell_type": "code",
   "execution_count": null,
   "metadata": {},
   "outputs": [],
   "source": []
  },
  {
   "cell_type": "code",
   "execution_count": null,
   "metadata": {},
   "outputs": [],
   "source": []
  },
  {
   "cell_type": "code",
   "execution_count": null,
   "metadata": {},
   "outputs": [],
   "source": []
  },
  {
   "cell_type": "code",
   "execution_count": null,
   "metadata": {},
   "outputs": [],
   "source": []
  },
  {
   "cell_type": "code",
   "execution_count": null,
   "metadata": {},
   "outputs": [],
   "source": []
  }
 ],
 "metadata": {
  "kernelspec": {
   "display_name": "edu_env",
   "language": "python",
   "name": "python3"
  },
  "language_info": {
   "codemirror_mode": {
    "name": "ipython",
    "version": 3
   },
   "file_extension": ".py",
   "mimetype": "text/x-python",
   "name": "python",
   "nbconvert_exporter": "python",
   "pygments_lexer": "ipython3",
   "version": "3.9.17"
  }
 },
 "nbformat": 4,
 "nbformat_minor": 2
}
