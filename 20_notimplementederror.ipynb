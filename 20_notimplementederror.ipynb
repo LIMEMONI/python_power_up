{
 "cells": [
  {
   "cell_type": "code",
   "execution_count": 12,
   "metadata": {},
   "outputs": [],
   "source": [
    "class MyBaseClass:\n",
    "    def my_method(self):\n",
    "        # NotImplementedError를 발생시키는 메소드를 정의\n",
    "        raise NotImplementedError(\"Subclasses must implement this method\")\n",
    "\n",
    "class MySubClass(MyBaseClass):\n",
    "    def my_method_2(self):\n",
    "        # MyBaseClass의 my_method를 오버라이드하여 구현\n",
    "        return \"This is not the implementation of my_method in MySubClass\"\n"
   ]
  },
  {
   "cell_type": "code",
   "execution_count": 13,
   "metadata": {},
   "outputs": [
    {
     "ename": "NotImplementedError",
     "evalue": "Subclasses must implement this method",
     "output_type": "error",
     "traceback": [
      "\u001b[1;31m---------------------------------------------------------------------------\u001b[0m",
      "\u001b[1;31mNotImplementedError\u001b[0m                       Traceback (most recent call last)",
      "Cell \u001b[1;32mIn[13], line 4\u001b[0m\n\u001b[0;32m      2\u001b[0m my_base_instance \u001b[38;5;241m=\u001b[39m MyBaseClass()\n\u001b[0;32m      3\u001b[0m \u001b[38;5;66;03m# MyBaseClass의 my_method 호출\u001b[39;00m\n\u001b[1;32m----> 4\u001b[0m \u001b[43mmy_base_instance\u001b[49m\u001b[38;5;241;43m.\u001b[39;49m\u001b[43mmy_method\u001b[49m\u001b[43m(\u001b[49m\u001b[43m)\u001b[49m\n",
      "Cell \u001b[1;32mIn[12], line 4\u001b[0m, in \u001b[0;36mMyBaseClass.my_method\u001b[1;34m(self)\u001b[0m\n\u001b[0;32m      2\u001b[0m \u001b[38;5;28;01mdef\u001b[39;00m \u001b[38;5;21mmy_method\u001b[39m(\u001b[38;5;28mself\u001b[39m):\n\u001b[0;32m      3\u001b[0m     \u001b[38;5;66;03m# NotImplementedError를 발생시키는 메소드를 정의\u001b[39;00m\n\u001b[1;32m----> 4\u001b[0m     \u001b[38;5;28;01mraise\u001b[39;00m \u001b[38;5;167;01mNotImplementedError\u001b[39;00m(\u001b[38;5;124m\"\u001b[39m\u001b[38;5;124mSubclasses must implement this method\u001b[39m\u001b[38;5;124m\"\u001b[39m)\n",
      "\u001b[1;31mNotImplementedError\u001b[0m: Subclasses must implement this method"
     ]
    }
   ],
   "source": [
    "# MyBaseClass의 인스턴스 생성\n",
    "my_base_instance = MyBaseClass()\n",
    "# MyBaseClass의 my_method 호출\n",
    "my_base_instance.my_method()"
   ]
  },
  {
   "cell_type": "code",
   "execution_count": 15,
   "metadata": {},
   "outputs": [
    {
     "data": {
      "text/plain": [
       "'This is not the implementation of my_method in MySubClass'"
      ]
     },
     "execution_count": 15,
     "metadata": {},
     "output_type": "execute_result"
    }
   ],
   "source": [
    "# MySubClass의 인스턴스 생성\n",
    "my_sub_instance = MySubClass()\n",
    "# MySubClass의 my_method_2 호출\n",
    "my_sub_instance.my_method_2() ## my_method_2는 부모클래스와 상관이 없으므로 실행에 문제없음"
   ]
  },
  {
   "cell_type": "code",
   "execution_count": 16,
   "metadata": {},
   "outputs": [
    {
     "ename": "NotImplementedError",
     "evalue": "Subclasses must implement this method",
     "output_type": "error",
     "traceback": [
      "\u001b[1;31m---------------------------------------------------------------------------\u001b[0m",
      "\u001b[1;31mNotImplementedError\u001b[0m                       Traceback (most recent call last)",
      "Cell \u001b[1;32mIn[16], line 2\u001b[0m\n\u001b[0;32m      1\u001b[0m \u001b[38;5;66;03m# MySubClass의 my_method 호출\u001b[39;00m\n\u001b[1;32m----> 2\u001b[0m \u001b[43mmy_sub_instance\u001b[49m\u001b[38;5;241;43m.\u001b[39;49m\u001b[43mmy_method\u001b[49m\u001b[43m(\u001b[49m\u001b[43m)\u001b[49m\n",
      "Cell \u001b[1;32mIn[12], line 4\u001b[0m, in \u001b[0;36mMyBaseClass.my_method\u001b[1;34m(self)\u001b[0m\n\u001b[0;32m      2\u001b[0m \u001b[38;5;28;01mdef\u001b[39;00m \u001b[38;5;21mmy_method\u001b[39m(\u001b[38;5;28mself\u001b[39m):\n\u001b[0;32m      3\u001b[0m     \u001b[38;5;66;03m# NotImplementedError를 발생시키는 메소드를 정의\u001b[39;00m\n\u001b[1;32m----> 4\u001b[0m     \u001b[38;5;28;01mraise\u001b[39;00m \u001b[38;5;167;01mNotImplementedError\u001b[39;00m(\u001b[38;5;124m\"\u001b[39m\u001b[38;5;124mSubclasses must implement this method\u001b[39m\u001b[38;5;124m\"\u001b[39m)\n",
      "\u001b[1;31mNotImplementedError\u001b[0m: Subclasses must implement this method"
     ]
    }
   ],
   "source": [
    "# MySubClass의 my_method 호출\n",
    "my_sub_instance.my_method()"
   ]
  },
  {
   "cell_type": "markdown",
   "metadata": {},
   "source": [
    "- subclass에서 꼭 구현되어야 하는 기능들을 명시하고 싶을 때 이런식으로 구현한다.\n",
    "- subclass에서 my_method가 구현되지 않으면 NotImplementedError 발생"
   ]
  }
 ],
 "metadata": {
  "kernelspec": {
   "display_name": "edu_env",
   "language": "python",
   "name": "python3"
  },
  "language_info": {
   "codemirror_mode": {
    "name": "ipython",
    "version": 3
   },
   "file_extension": ".py",
   "mimetype": "text/x-python",
   "name": "python",
   "nbconvert_exporter": "python",
   "pygments_lexer": "ipython3",
   "version": "3.9.17"
  }
 },
 "nbformat": 4,
 "nbformat_minor": 2
}
