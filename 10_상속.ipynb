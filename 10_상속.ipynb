{
 "cells": [
  {
   "cell_type": "code",
   "execution_count": 30,
   "metadata": {},
   "outputs": [],
   "source": [
    "# 부모 클래스 정의\n",
    "class Animal:\n",
    "    def __init__(self, what):\n",
    "        self.what = what\n",
    "\n",
    "    def exist(self):\n",
    "        print(f\"{self.what}이(가) 존재합니다.\")\n"
   ]
  },
  {
   "cell_type": "code",
   "execution_count": 33,
   "metadata": {},
   "outputs": [],
   "source": [
    "# 자식 클래스 정의\n",
    "class Dog(Animal):\n",
    "    def __init__(self, what, name, breed):\n",
    "        super().__init__(what) # Animal 클래스의 __init__ 메서드 호출하여 what을 초기화함.\n",
    "        self.name = name # 인스턴스 변수 name에 전달받은 name을 저장함.\n",
    "        self.breed = breed # 인스턴스 변수 breed에 전달받은 breed를 저장함.\n",
    "\n",
    "    def bark(self):\n",
    "        print(f\"{self.name}이(가) 짖습니다.\") # 인스턴스 변수 name을 사용하여 짖는 소리를 출력함.\n",
    "        \n",
    "    def eat(self):\n",
    "        print(f\"{self.breed}이(가) 밥먹어유~.\") # 인스턴스 변수 breed를 사용하여 밥을 먹는 소리를 출력함.\n"
   ]
  },
  {
   "cell_type": "code",
   "execution_count": 34,
   "metadata": {},
   "outputs": [],
   "source": [
    "# 인스턴스 생성\n",
    "my_dog = Dog(\"동물\", \"멍멍이\", \"푸들\")\n"
   ]
  },
  {
   "cell_type": "code",
   "execution_count": 35,
   "metadata": {},
   "outputs": [
    {
     "name": "stdout",
     "output_type": "stream",
     "text": [
      "푸들이(가) 밥먹어유~.\n"
     ]
    }
   ],
   "source": [
    "# 메서드 호출\n",
    "my_dog.eat()\n"
   ]
  },
  {
   "cell_type": "code",
   "execution_count": 37,
   "metadata": {},
   "outputs": [
    {
     "name": "stdout",
     "output_type": "stream",
     "text": [
      "멍멍이이(가) 짖습니다.\n",
      "동물이(가) 존재합니다.\n"
     ]
    }
   ],
   "source": [
    "my_dog.bark()\n",
    "my_dog.exist()"
   ]
  }
 ],
 "metadata": {
  "kernelspec": {
   "display_name": "edu_env",
   "language": "python",
   "name": "python3"
  },
  "language_info": {
   "codemirror_mode": {
    "name": "ipython",
    "version": 3
   },
   "file_extension": ".py",
   "mimetype": "text/x-python",
   "name": "python",
   "nbconvert_exporter": "python",
   "pygments_lexer": "ipython3",
   "version": "3.9.17"
  }
 },
 "nbformat": 4,
 "nbformat_minor": 2
}
