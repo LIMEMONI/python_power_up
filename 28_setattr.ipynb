{
 "cells": [
  {
   "cell_type": "code",
   "execution_count": null,
   "metadata": {},
   "outputs": [],
   "source": [
    "class MyClass:\n",
    "    def __setattr__(self, name, value):\n",
    "        # __setattr__ 메서드는 객체의 속성을 설정할 때 호출되는 특수 메서드입니다.\n",
    "        # 이 메서드를 오버라이딩하여 속성 설정 시 추가적인 동작을 정의할 수 있습니다.\n",
    "        # 이 예제에서는 속성이름과 값을 출력하는 동작을 추가하였습니다.\n",
    "        print(f\"Setting attribute '{name}' to '{value}'\")\n",
    "        # super() 함수를 사용하여 부모 클래스의 __setattr__ 메서드를 호출합니다.\n",
    "        # 이를 통해 기본적인 속성 설정 동작을 유지할 수 있습니다.\n",
    "        super().__setattr__(name, value)\n"
   ]
  },
  {
   "cell_type": "code",
   "execution_count": 1,
   "metadata": {},
   "outputs": [
    {
     "ename": "NameError",
     "evalue": "name 'MyClass' is not defined",
     "output_type": "error",
     "traceback": [
      "\u001b[1;31m---------------------------------------------------------------------------\u001b[0m",
      "\u001b[1;31mNameError\u001b[0m                                 Traceback (most recent call last)",
      "Cell \u001b[1;32mIn[1], line 2\u001b[0m\n\u001b[0;32m      1\u001b[0m \u001b[38;5;66;03m# MyClass의 인스턴스를 생성합니다.\u001b[39;00m\n\u001b[1;32m----> 2\u001b[0m my_obj \u001b[38;5;241m=\u001b[39m \u001b[43mMyClass\u001b[49m()\n",
      "\u001b[1;31mNameError\u001b[0m: name 'MyClass' is not defined"
     ]
    }
   ],
   "source": [
    "# MyClass의 인스턴스를 생성합니다.\n",
    "my_obj = MyClass()\n"
   ]
  },
  {
   "cell_type": "code",
   "execution_count": null,
   "metadata": {},
   "outputs": [
    {
     "name": "stdout",
     "output_type": "stream",
     "text": [
      "Setting attribute 'name' to 'John'\n"
     ]
    },
    {
     "data": {
      "text/plain": [
       "'John'"
      ]
     },
     "execution_count": 8,
     "metadata": {},
     "output_type": "execute_result"
    }
   ],
   "source": [
    "my_obj.name = \"John\"\n",
    "my_obj.name"
   ]
  },
  {
   "cell_type": "code",
   "execution_count": null,
   "metadata": {},
   "outputs": [
    {
     "name": "stdout",
     "output_type": "stream",
     "text": [
      "Setting attribute 'age' to '25'\n"
     ]
    },
    {
     "data": {
      "text/plain": [
       "25"
      ]
     },
     "execution_count": 7,
     "metadata": {},
     "output_type": "execute_result"
    }
   ],
   "source": [
    "my_obj.age = 25\n",
    "my_obj.age"
   ]
  },
  {
   "cell_type": "code",
   "execution_count": 9,
   "metadata": {},
   "outputs": [],
   "source": [
    "class MyClass_2:\n",
    "    def __setattr__(self, name, value):\n",
    "        print(f\"Setting attribute '{name}' to '{value}'\")\n",
    "        self.name = value\n"
   ]
  },
  {
   "cell_type": "code",
   "execution_count": 10,
   "metadata": {},
   "outputs": [],
   "source": [
    "# MyClass_2의 인스턴스를 생성합니다.\n",
    "my_obj = MyClass_2()"
   ]
  },
  {
   "cell_type": "code",
   "execution_count": 11,
   "metadata": {},
   "outputs": [
    {
     "ename": "",
     "evalue": "",
     "output_type": "error",
     "traceback": [
      "\u001b[1;31m현재 셀 또는 이전 셀에서 코드를 실행하는 동안 Kernel이 충돌했습니다. 셀의 코드를 검토하여 오류의 가능한 원인을 식별하세요. 자세한 내용을 보려면 <a href='https://aka.ms/vscodeJupyterKernelCrash'> 여기 </a> 를 클릭하세요. 자세한 내용은 Jupyter <a href='command:jupyter.viewOutput'>로그</a>를 참조하세요."
     ]
    }
   ],
   "source": [
    "# 재귀함수가 되어버려서 충돌할 수 있다.\n",
    "my_obj.name = \"John\"\n",
    "my_obj.name"
   ]
  },
  {
   "cell_type": "code",
   "execution_count": 2,
   "metadata": {},
   "outputs": [],
   "source": [
    "class MyClass_3:\n",
    "    def __setattr__(self, name, value):\n",
    "        print(f\"Setting attribute '{name}' to '{value}'\")\n",
    "        self.__dict__[name] = value"
   ]
  },
  {
   "cell_type": "code",
   "execution_count": 3,
   "metadata": {},
   "outputs": [
    {
     "name": "stdout",
     "output_type": "stream",
     "text": [
      "Setting attribute 'name' to 'John'\n"
     ]
    },
    {
     "data": {
      "text/plain": [
       "'John'"
      ]
     },
     "execution_count": 3,
     "metadata": {},
     "output_type": "execute_result"
    }
   ],
   "source": [
    "# MyClass_3의 인스턴스를 생성합니다.\n",
    "my_obj = MyClass_3()\n",
    "\n",
    "my_obj.name = \"John\"\n",
    "my_obj.name"
   ]
  }
 ],
 "metadata": {
  "kernelspec": {
   "display_name": "edu_env",
   "language": "python",
   "name": "python3"
  },
  "language_info": {
   "codemirror_mode": {
    "name": "ipython",
    "version": 3
   },
   "file_extension": ".py",
   "mimetype": "text/x-python",
   "name": "python",
   "nbconvert_exporter": "python",
   "pygments_lexer": "ipython3",
   "version": "3.9.17"
  }
 },
 "nbformat": 4,
 "nbformat_minor": 2
}
