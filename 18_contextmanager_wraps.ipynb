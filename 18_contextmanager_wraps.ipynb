{
 "cells": [
  {
   "cell_type": "markdown",
   "metadata": {},
   "source": [
    "## contextmanager"
   ]
  },
  {
   "cell_type": "code",
   "execution_count": 4,
   "metadata": {},
   "outputs": [
    {
     "name": "stdout",
     "output_type": "stream",
     "text": [
      "앞잡이 시작!!\n",
      "파읽읽기 완료!! / 파일쓰기 대기중\n",
      "파일쓰기 완료!!\n",
      "뒷바라지 완료!!\n"
     ]
    }
   ],
   "source": [
    "from contextlib import contextmanager\n",
    "import os\n",
    "    \n",
    "\n",
    "# @contextmanager 데코레이터를 사용하여 컨텍스트 매니저 함수를 정의합니다.\n",
    "@contextmanager\n",
    "def my_context_manager(path):\n",
    "    # 컨텍스트 진입 시 실행되는 코드를 작성합니다.\n",
    "    \n",
    "    try:\n",
    "        # yield 문을 통해 컨텍스트 블록 내의 코드를 실행합니다.\n",
    "        print('앞잡이 시작!!')   \n",
    "        dir_name = os.path.dirname(path)\n",
    "        if not os.path.isdir(dir_name):\n",
    "            os.makedirs(dir_name, exist_ok=True)\n",
    "        fw = open(path, \"w\")\n",
    "        yield fw\n",
    "        \n",
    "    finally:\n",
    "        # 컨텍스트 종료 시 실행되는 코드를 작성합니다.\n",
    "        fw.close()\n",
    "        print(\"뒷바라지 완료!!\")\n",
    "    \n",
    "# my_context_manager 함수를 사용하는 예시 코드입니다.\n",
    "with my_context_manager('./data/context.txt') as f :\n",
    "    print('파읽읽기 완료!! / 파일쓰기 대기중')\n",
    "    f.write(\"Hello World\")\n",
    "    print('파일쓰기 완료!!')"
   ]
  },
  {
   "cell_type": "markdown",
   "metadata": {},
   "source": [
    "수정된 코드는 `contextlib` 모듈의 `@contextmanager` 데코레이터를 사용하여 커스텀 컨텍스트 매니저를 생성하는 예시입니다. 이 컨텍스트 매니저는 파일을 안전하게 열고, 자동으로 닫아주는 역할을 합니다. 각 부분에 대한 설명은 다음과 같습니다:\n",
    "\n",
    "### 컨텍스트 매니저 함수 `my_context_manager`\n",
    "- 이 함수는 파일 작업을 관리하는 컨텍스트 매니저로, 파일을 열고 (`yield` 이전) 그 후에 파일을 닫습니다 (`finally` 블록).\n",
    "\n",
    "### 함수 내부 작업\n",
    "1. **컨텍스트 진입 전 (`try` 블록 이전)**:\n",
    "   - \"앞잡이 시작!!\"이 출력됩니다.\n",
    "   - 파일이 저장될 경로의 디렉토리가 존재하지 않는 경우, `os.makedirs`를 통해 디렉토리를 생성합니다.\n",
    "\n",
    "2. **파일 열기 및 `yield`**:\n",
    "   - `open` 함수를 사용하여 지정된 경로에 파일을 쓰기 모드(`\"w\"`)로 엽니다.\n",
    "   - `yield fw`를 통해 파일 객체(`fw`)를 `with` 블록으로 전달합니다. 이 시점에서 컨텍스트 매니저의 사용자는 파일에 대한 작업을 수행할 수 있습니다.\n",
    "\n",
    "3. **컨텍스트 블록 (`with` 블록)**:\n",
    "   - `with` 블록 내에서 파일에 데이터를 쓰는 등의 작업을 수행합니다. 이 예에서는 \"Hello World\" 문자열을 파일에 씁니다.\n",
    "\n",
    "4. **컨텍스트 종료 (`finally` 블록)**:\n",
    "   - `with` 블록이 종료되면 (즉, 파일 작업이 완료되면), `finally` 블록이 실행됩니다.\n",
    "   - `fw.close()`를 통해 파일을 닫습니다. 이는 `finally` 블록에 있기 때문에, 파일 작업 중에 예외가 발생하더라도 파일이 안전하게 닫히는 것이 보장됩니다.\n",
    "   - \"뒷바라지 완료!!\"가 출력됩니다.\n",
    "\n",
    "### 출력 순서\n",
    "- 코드를 실행하면 다음과 같은 순서로 출력됩니다:\n",
    "  1. \"앞잡이 시작!!\"\n",
    "  2. '파읽읽기 완료!! / 파일쓰기 대기중'\n",
    "  3. '파일쓰기 완료!!'\n",
    "  4. \"뒷바라지 완료!!\"\n",
    "\n",
    "### 사용 예시\n",
    "- `with my_context_manager('./data/context.txt') as f:` 라인은 컨텍스트 매니저를 사용하여 파일을 열고, 해당 파일에 대한 작업을 안전하게 수행한 후, 파일을 자동으로 닫습니다.\n",
    "- 이 방법은 파일 작업 중 발생할 수 있는 예외를 처리하고, 자원을 효율적으로 관리하는 데 도움이 됩니다."
   ]
  },
  {
   "cell_type": "markdown",
   "metadata": {},
   "source": [
    "## wraps"
   ]
  },
  {
   "cell_type": "code",
   "execution_count": 16,
   "metadata": {},
   "outputs": [
    {
     "name": "stdout",
     "output_type": "stream",
     "text": [
      "함수 호출 전\n",
      "함수 실행\n",
      "함수 호출 후\n"
     ]
    }
   ],
   "source": [
    "from functools import wraps\n",
    "\n",
    "# 데코레이터 함수 정의\n",
    "def my_decorator(func):\n",
    "    @wraps(func)\n",
    "    def wrapper(*args, **kwargs):\n",
    "        # 함수 호출 전에 실행되는 코드\n",
    "        print(\"함수 호출 전\")\n",
    "        \n",
    "        # 함수 호출\n",
    "        result = func(*args, **kwargs)\n",
    "        \n",
    "        # 함수 호출 후에 실행되는 코드\n",
    "        print(\"함수 호출 후\")\n",
    "        \n",
    "        # 결과 반환\n",
    "        return result\n",
    "    \n",
    "    # 데코레이터 함수 반환\n",
    "    return wrapper\n",
    "\n",
    "# 데코레이터를 사용하여 함수 장식\n",
    "@my_decorator\n",
    "def my_function():\n",
    "    print(\"함수 실행\")\n",
    "\n",
    "# 함수 호출\n",
    "my_function()\n"
   ]
  },
  {
   "cell_type": "code",
   "execution_count": 17,
   "metadata": {},
   "outputs": [
    {
     "name": "stdout",
     "output_type": "stream",
     "text": [
      "함수 호출 전\n",
      "함수 실행\n",
      "함수 호출 후\n"
     ]
    }
   ],
   "source": [
    "my_decorator(my_function)\n",
    "my_function()"
   ]
  },
  {
   "cell_type": "code",
   "execution_count": 18,
   "metadata": {},
   "outputs": [
    {
     "name": "stdout",
     "output_type": "stream",
     "text": [
      "함수 실행\n"
     ]
    }
   ],
   "source": [
    "def my_function():\n",
    "    print(\"함수 실행\")\n",
    "my_function()"
   ]
  },
  {
   "cell_type": "markdown",
   "metadata": {},
   "source": [
    "이 코드는 Python에서 데코레이터를 사용하는 방법을 보여주며, 특히 `functools.wraps`를 사용하여 원래 함수의 메타데이터를 보존하는 방법을 설명합니다.\n",
    "\n",
    "### `functools.wraps`의 역할:\n",
    "- 데코레이터는 함수를 감싸는(wrapper) 다른 함수로, 추가적인 기능을 제공합니다. 하지만 이 과정에서 원래 함수의 메타데이터(예: 함수의 이름, 문서 문자열(docstring), 주석 등)가 손실될 수 있습니다.\n",
    "- `functools.wraps`는 이러한 메타데이터를 보존하기 위해 사용됩니다. 이 함수는 데코레이터 내부의 래퍼(wrapper) 함수에 적용되어, 래퍼 함수가 원래 함수의 메타데이터를 유지하도록 합니다.\n",
    "\n",
    "### 코드 설명:\n",
    "1. **데코레이터 함수 `my_decorator`**:\n",
    "   - `my_decorator`는 함수를 인자로 받아 또 다른 함수인 `wrapper`를 반환합니다.\n",
    "\n",
    "2. **래퍼 함수 `wrapper`**:\n",
    "   - `wrapper` 함수는 `*args`와 `**kwargs`를 사용하여 임의의 인자를 받을 수 있습니다. 이는 `my_decorator`로 장식된 모든 함수에 대해 유연하게 작동할 수 있음을 의미합니다.\n",
    "   - `wrapper` 내부에서 원래 함수 `func`는 호출되기 전후로 추가적인 코드(예: \"함수 호출 전\", \"함수 호출 후\" 출력)를 실행합니다.\n",
    "\n",
    "3. **`functools.wraps`의 사용**:\n",
    "   - `@wraps(func)` 데코레이터는 `wrapper` 함수에 적용됩니다. 이를 통해 `my_function`의 원래 메타데이터가 `wrapper` 함수에 복사됩니다.\n",
    "   - 이는 `my_function`의 이름과 문서화 등이 `my_function` 호출 시 `wrapper` 함수로 대체되더라도 유지되도록 합니다.\n",
    "\n",
    "4. **데코레이터로 장식된 함수 `my_function`**:\n",
    "   - `my_function`은 `@my_decorator`로 장식되어 있습니다. 이는 `my_function`을 호출할 때 사실상 `wrapper` 함수를 호출함을 의미합니다.\n",
    "\n",
    "5. **함수 호출**:\n",
    "   - `my_function()`을 호출하면 \"함수 호출 전\", \"함수 실행\", \"함수 호출 후\"가 차례로 출력됩니다.\n",
    "\n",
    "### `functools.wraps`의 추가적인 설명:\n",
    "- `functools.wraps`는 특히 데코레이터를 사용할 때 중요합니다. 데코레이터 없이 함수를 직접 호출할 때와 동일한 메타데이터(함수 이름, 문서 문자열 등)를 유지하고 싶을 때 사용합니다.\n",
    "- 함수의 메타데이터를 유지하는 것은 디버깅, 문서화 도구, IDE의 자동완성 기능 등에서 매우 유용합니다.\n",
    "- 이를 사용하지 않으면, 데코레이터로 인해 원래 함수의 이름과 문서화가 래퍼 함수의 것으로 대체됩니다. 이는 프로그램의 가독성과 유지보수성에 영향을 줄 수 있습니다."
   ]
  },
  {
   "cell_type": "code",
   "execution_count": null,
   "metadata": {},
   "outputs": [],
   "source": []
  }
 ],
 "metadata": {
  "kernelspec": {
   "display_name": "edu_env",
   "language": "python",
   "name": "python3"
  },
  "language_info": {
   "codemirror_mode": {
    "name": "ipython",
    "version": 3
   },
   "file_extension": ".py",
   "mimetype": "text/x-python",
   "name": "python",
   "nbconvert_exporter": "python",
   "pygments_lexer": "ipython3",
   "version": "3.9.17"
  }
 },
 "nbformat": 4,
 "nbformat_minor": 2
}
