{
 "cells": [
  {
   "cell_type": "markdown",
   "metadata": {},
   "source": [
    "## yield"
   ]
  },
  {
   "cell_type": "code",
   "execution_count": 10,
   "metadata": {},
   "outputs": [
    {
     "name": "stdout",
     "output_type": "stream",
     "text": [
      "r\n"
     ]
    }
   ],
   "source": [
    "def range_r(num):\n",
    "    for i in range(num):\n",
    "        print('r')\n",
    "        return i\n",
    "    \n",
    "rf = range_r(9)"
   ]
  },
  {
   "cell_type": "code",
   "execution_count": 16,
   "metadata": {},
   "outputs": [],
   "source": [
    "def range_y(num):  # num을 입력받아서 반복문을 실행하는 range_y 함수 정의\n",
    "    for i in range(num):  # 0부터 num-1까지 반복\n",
    "        print('y')  # 'y' 출력\n",
    "        yield i  # i를 반환하는 제너레이터 생성\n",
    "        \n",
    "yf = range_y(9)  # range_y 함수에 9를 인자로 전달하여 yf에 할당"
   ]
  },
  {
   "cell_type": "code",
   "execution_count": 17,
   "metadata": {},
   "outputs": [
    {
     "name": "stdout",
     "output_type": "stream",
     "text": [
      "y\n",
      "item =  0\n",
      "y\n",
      "item =  1\n",
      "y\n",
      "item =  2\n",
      "y\n",
      "item =  3\n",
      "y\n",
      "item =  4\n",
      "y\n",
      "item =  5\n",
      "y\n",
      "item =  6\n",
      "y\n",
      "item =  7\n",
      "y\n",
      "item =  8\n"
     ]
    }
   ],
   "source": [
    "# 이렇게 반복해서 쓸 수 있다.\n",
    "for item in yf:\n",
    "    print('item = ', item)\n",
    "    \n",
    "## 한번 쓰면 다시 generator 선언을 해줘야 함"
   ]
  },
  {
   "cell_type": "code",
   "execution_count": 19,
   "metadata": {},
   "outputs": [
    {
     "name": "stdout",
     "output_type": "stream",
     "text": [
      "y\n",
      "next(yf): 0\n",
      "y\n",
      "next(yf): 1\n",
      "y\n",
      "next(yf): 2\n",
      "y\n",
      "next(yf): 3\n"
     ]
    }
   ],
   "source": [
    "# next를 이용해서 하나씩 사용가능\n",
    "\n",
    "yf = range_y(9)  # range_y 함수에 9를 인자로 전달하여 yf에 할당\n",
    "print('next(yf):', next(yf))  # yf의 다음 값을 출력\n",
    "print('next(yf):', next(yf))  # yf의 다음 값을 출력\n",
    "print('next(yf):', next(yf))  # yf의 다음 값을 출력\n",
    "print('next(yf):', next(yf))  # yf의 다음 값을 출력"
   ]
  },
  {
   "cell_type": "code",
   "execution_count": 20,
   "metadata": {},
   "outputs": [
    {
     "name": "stdout",
     "output_type": "stream",
     "text": [
      "y\n",
      "next(yf): 4\n",
      "y\n",
      "next(yf): 5\n"
     ]
    }
   ],
   "source": [
    "print('next(yf):', next(yf))  # yf의 다음 값을 출력\n",
    "print('next(yf):', next(yf))  # yf의 다음 값을 출력"
   ]
  },
  {
   "cell_type": "code",
   "execution_count": 21,
   "metadata": {},
   "outputs": [],
   "source": [
    "def counter():\n",
    "    i = 0\n",
    "    while True:\n",
    "        i += 1\n",
    "        yield i"
   ]
  },
  {
   "cell_type": "code",
   "execution_count": 22,
   "metadata": {},
   "outputs": [
    {
     "name": "stdout",
     "output_type": "stream",
     "text": [
      "1\n",
      "2\n",
      "3\n",
      "4\n",
      "5\n",
      "6\n",
      "7\n",
      "8\n",
      "9\n",
      "10\n",
      "last next value:  11\n"
     ]
    }
   ],
   "source": [
    "c = counter()\n",
    "for i in range(10):\n",
    "    print(next(c))\n",
    "    \n",
    "print('last next value: ', next(c))"
   ]
  },
  {
   "cell_type": "code",
   "execution_count": null,
   "metadata": {},
   "outputs": [],
   "source": []
  },
  {
   "cell_type": "code",
   "execution_count": null,
   "metadata": {},
   "outputs": [],
   "source": []
  }
 ],
 "metadata": {
  "kernelspec": {
   "display_name": "edu_env",
   "language": "python",
   "name": "python3"
  },
  "language_info": {
   "codemirror_mode": {
    "name": "ipython",
    "version": 3
   },
   "file_extension": ".py",
   "mimetype": "text/x-python",
   "name": "python",
   "nbconvert_exporter": "python",
   "pygments_lexer": "ipython3",
   "version": "3.9.17"
  }
 },
 "nbformat": 4,
 "nbformat_minor": 2
}
