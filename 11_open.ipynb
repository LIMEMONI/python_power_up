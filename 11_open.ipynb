{
 "cells": [
  {
   "cell_type": "markdown",
   "metadata": {},
   "source": [
    "## read"
   ]
  },
  {
   "cell_type": "code",
   "execution_count": 1,
   "metadata": {},
   "outputs": [
    {
     "data": {
      "text/plain": [
       "'youtube~~naver\\\\\\\\methode\\\\\\\\code\\\\\\\\keyword\\nhi\\nmy name is\\nsejong'"
      ]
     },
     "execution_count": 1,
     "metadata": {},
     "output_type": "execute_result"
    }
   ],
   "source": [
    "fr = open('hi.txt','r')\n",
    "\n",
    "fr.read() # 줄바꿈 없이 끝까지 한 문자열로 읽음"
   ]
  },
  {
   "cell_type": "code",
   "execution_count": 9,
   "metadata": {},
   "outputs": [
    {
     "name": "stdout",
     "output_type": "stream",
     "text": [
      "youtube~~naver\\\\methode\\\\code\\\\keyword\n",
      "\n",
      "hi\n",
      "\n",
      "my name is\n",
      "\n",
      "sejong\n",
      "\n"
     ]
    }
   ],
   "source": [
    "fr = open('hi.txt','r')\n",
    "print(fr.readline()) # 한줄 씩 읽어오기\n",
    "print(fr.readline())\n",
    "print(fr.readline())\n",
    "print(fr.readline())\n",
    "print(fr.readline())\n"
   ]
  },
  {
   "cell_type": "code",
   "execution_count": 11,
   "metadata": {},
   "outputs": [
    {
     "data": {
      "text/plain": [
       "['youtube~~naver\\\\\\\\methode\\\\\\\\code\\\\\\\\keyword\\n',\n",
       " 'hi\\n',\n",
       " 'my name is\\n',\n",
       " 'sejong']"
      ]
     },
     "metadata": {},
     "output_type": "display_data"
    }
   ],
   "source": [
    "fr = open('hi.txt','r')\n",
    "display(fr.readlines()) # 각줄 리스트로 읽어오기"
   ]
  },
  {
   "cell_type": "code",
   "execution_count": 14,
   "metadata": {},
   "outputs": [
    {
     "data": {
      "text/plain": [
       "['youtube~~naver\\\\\\\\methode\\\\\\\\code\\\\\\\\keyword\\n',\n",
       " 'hi\\n',\n",
       " 'my name is\\n',\n",
       " 'sejong']"
      ]
     },
     "metadata": {},
     "output_type": "display_data"
    }
   ],
   "source": [
    "fr = open('hi.txt','r')\n",
    "display(fr.readlines()) # 각줄 리스트로 읽어오기"
   ]
  },
  {
   "cell_type": "code",
   "execution_count": 15,
   "metadata": {},
   "outputs": [
    {
     "data": {
      "text/plain": [
       "['youtube~~naver\\\\\\\\methode\\\\\\\\code\\\\\\\\keyword', 'hi', 'my name is', 'sejong']"
      ]
     },
     "execution_count": 15,
     "metadata": {},
     "output_type": "execute_result"
    }
   ],
   "source": [
    "fr = open('hi.txt','r')\n",
    "fr.read().split('\\n') # 직관 적 방법"
   ]
  },
  {
   "cell_type": "markdown",
   "metadata": {},
   "source": [
    "## write"
   ]
  },
  {
   "cell_type": "code",
   "execution_count": 17,
   "metadata": {},
   "outputs": [
    {
     "data": {
      "text/plain": [
       "11"
      ]
     },
     "execution_count": 17,
     "metadata": {},
     "output_type": "execute_result"
    }
   ],
   "source": [
    "fw = open('hihi.txt', 'w')\n",
    "\n",
    "fw.write('hello world') # 문자열 가능!!!"
   ]
  },
  {
   "cell_type": "code",
   "execution_count": 19,
   "metadata": {},
   "outputs": [],
   "source": [
    "fw = open('hihi.txt', 'w')\n",
    "\n",
    "fw.writelines(['hello world' ,'what the heck!!']) # 문자열 or 문자열 리스트도 가능!!"
   ]
  },
  {
   "cell_type": "code",
   "execution_count": null,
   "metadata": {},
   "outputs": [],
   "source": []
  },
  {
   "cell_type": "code",
   "execution_count": 21,
   "metadata": {},
   "outputs": [
    {
     "data": {
      "text/plain": [
       "b'youtube~~naver\\\\\\\\methode\\\\\\\\code\\\\\\\\keyword\\r\\nhi\\r\\nmy name is\\r\\nsejong'"
      ]
     },
     "execution_count": 21,
     "metadata": {},
     "output_type": "execute_result"
    }
   ],
   "source": [
    "fw = open('hi.txt', 'rb')  # 'hi.txt' 파일을 바이너리 모드로 읽기 위해 열기\n",
    "\n",
    "fw.read()  # 파일의 내용을 읽기"
   ]
  },
  {
   "cell_type": "code",
   "execution_count": null,
   "metadata": {},
   "outputs": [],
   "source": []
  },
  {
   "cell_type": "code",
   "execution_count": null,
   "metadata": {},
   "outputs": [],
   "source": []
  },
  {
   "cell_type": "code",
   "execution_count": null,
   "metadata": {},
   "outputs": [],
   "source": []
  },
  {
   "cell_type": "code",
   "execution_count": null,
   "metadata": {},
   "outputs": [],
   "source": []
  },
  {
   "cell_type": "code",
   "execution_count": null,
   "metadata": {},
   "outputs": [],
   "source": []
  },
  {
   "cell_type": "code",
   "execution_count": null,
   "metadata": {},
   "outputs": [],
   "source": []
  },
  {
   "cell_type": "code",
   "execution_count": null,
   "metadata": {},
   "outputs": [],
   "source": []
  }
 ],
 "metadata": {
  "kernelspec": {
   "display_name": "edu_env",
   "language": "python",
   "name": "python3"
  },
  "language_info": {
   "codemirror_mode": {
    "name": "ipython",
    "version": 3
   },
   "file_extension": ".py",
   "mimetype": "text/x-python",
   "name": "python",
   "nbconvert_exporter": "python",
   "pygments_lexer": "ipython3",
   "version": "3.9.17"
  }
 },
 "nbformat": 4,
 "nbformat_minor": 2
}
