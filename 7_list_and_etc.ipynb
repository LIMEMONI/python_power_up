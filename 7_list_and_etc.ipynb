{
 "cells": [
  {
   "cell_type": "markdown",
   "metadata": {},
   "source": [
    "## list 주의점"
   ]
  },
  {
   "cell_type": "code",
   "execution_count": 1,
   "metadata": {},
   "outputs": [
    {
     "name": "stdout",
     "output_type": "stream",
     "text": [
      "[1, 2, 3, 4, 10, 7, 5, 4]\n"
     ]
    }
   ],
   "source": [
    "a = [1,2,3,4,10,10,7,5,4]\n",
    "\n",
    "for i in a:\n",
    "    if i == 10:\n",
    "        a.remove(i)\n",
    "print(a)"
   ]
  },
  {
   "cell_type": "markdown",
   "metadata": {},
   "source": [
    "- list내부의 데이터를 제거하면서 알고리즘이 꼬이기 때문에 다음의 10이 체크되지 않고 지나가게 된다."
   ]
  },
  {
   "cell_type": "code",
   "execution_count": 2,
   "metadata": {},
   "outputs": [
    {
     "name": "stdout",
     "output_type": "stream",
     "text": [
      "[1, 2, 3, 4, 7, 5, 4]\n"
     ]
    }
   ],
   "source": [
    "a = [1,2,3,4,10,10,7,5,4]\n",
    "\n",
    "for i in a[::-1]:\n",
    "    if i == 10:\n",
    "        a.remove(i)\n",
    "print(a)"
   ]
  },
  {
   "cell_type": "markdown",
   "metadata": {},
   "source": [
    "- 역순으로 하면 꼬이지는 않지만 가독성이 좋지 않아 이렇게 코드를 짜는 것으 좋지 않다."
   ]
  },
  {
   "cell_type": "code",
   "execution_count": 3,
   "metadata": {},
   "outputs": [
    {
     "data": {
      "text/plain": [
       "[1, 2, 3, 4, 7, 5, 4]"
      ]
     },
     "execution_count": 3,
     "metadata": {},
     "output_type": "execute_result"
    }
   ],
   "source": [
    "a = [1,2,3,4,10,10,7,5,4]\n",
    "b = [i for i in a if i != 10]\n",
    "b\n",
    "## 그냥 이렇게 표현하는게 좋다 메모리는 더 쓰기는 하지만"
   ]
  },
  {
   "cell_type": "markdown",
   "metadata": {},
   "source": [
    "## defaultdict"
   ]
  },
  {
   "cell_type": "code",
   "execution_count": 4,
   "metadata": {},
   "outputs": [],
   "source": [
    "from collections import defaultdict"
   ]
  },
  {
   "cell_type": "code",
   "execution_count": 5,
   "metadata": {},
   "outputs": [],
   "source": [
    "# defaultdict 객체 생성, 기본값으로 0을 반환하는 람다 함수를 사용\n",
    "d = defaultdict(lambda:0)  "
   ]
  },
  {
   "cell_type": "code",
   "execution_count": 6,
   "metadata": {},
   "outputs": [
    {
     "data": {
      "text/plain": [
       "0"
      ]
     },
     "execution_count": 6,
     "metadata": {},
     "output_type": "execute_result"
    }
   ],
   "source": [
    "d[3]"
   ]
  },
  {
   "cell_type": "code",
   "execution_count": 8,
   "metadata": {},
   "outputs": [
    {
     "data": {
      "text/plain": [
       "'wow'"
      ]
     },
     "execution_count": 8,
     "metadata": {},
     "output_type": "execute_result"
    }
   ],
   "source": [
    "e = defaultdict(lambda:'wow') \n",
    "e['you']"
   ]
  },
  {
   "cell_type": "markdown",
   "metadata": {},
   "source": [
    "## enumerate"
   ]
  },
  {
   "cell_type": "code",
   "execution_count": 9,
   "metadata": {},
   "outputs": [
    {
     "name": "stdout",
     "output_type": "stream",
     "text": [
      "3 0\n",
      "4 1\n",
      "5 2\n",
      "6 3\n",
      "7 4\n",
      "8 5\n",
      "9 6\n",
      "10 7\n",
      "11 8\n",
      "12 9\n"
     ]
    }
   ],
   "source": [
    "a = [i for i in range(10)]\n",
    "\n",
    "for i ,d in enumerate(a,3): # index를 3부터 시작하게 할 수 있다.\n",
    "    print(i,d)"
   ]
  },
  {
   "cell_type": "markdown",
   "metadata": {},
   "source": [
    "## import *??"
   ]
  },
  {
   "cell_type": "markdown",
   "metadata": {},
   "source": [
    "- from mypy import *\n",
    "- 이렇게 하면 _로 시작하는 변수와 함수는 읽지 않는다.\n",
    "- 하지만 직접 명시하면 읽을 수 있다. "
   ]
  }
 ],
 "metadata": {
  "kernelspec": {
   "display_name": "edu_env",
   "language": "python",
   "name": "python3"
  },
  "language_info": {
   "codemirror_mode": {
    "name": "ipython",
    "version": 3
   },
   "file_extension": ".py",
   "mimetype": "text/x-python",
   "name": "python",
   "nbconvert_exporter": "python",
   "pygments_lexer": "ipython3",
   "version": "3.9.17"
  }
 },
 "nbformat": 4,
 "nbformat_minor": 2
}
