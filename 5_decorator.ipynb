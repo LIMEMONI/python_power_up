{
 "cells": [
  {
   "cell_type": "markdown",
   "metadata": {},
   "source": [
    "## decorator"
   ]
  },
  {
   "cell_type": "markdown",
   "metadata": {},
   "source": [
    "### classmethod"
   ]
  },
  {
   "cell_type": "code",
   "execution_count": 3,
   "metadata": {},
   "outputs": [],
   "source": [
    "class Example():\n",
    "    def met1(self, value):\n",
    "        self.value = value  # self.value에 전달된 값(value)을 저장하는 메서드\n",
    "    \n",
    "    @classmethod\n",
    "    def met2(cls, value):\n",
    "        cls.value = value  # 클래스 변수 self.value에 전달된 값(value)을 저장하는 클래스 메서드"
   ]
  },
  {
   "cell_type": "code",
   "execution_count": 4,
   "metadata": {},
   "outputs": [
    {
     "name": "stdout",
     "output_type": "stream",
     "text": [
      "999\n"
     ]
    }
   ],
   "source": [
    "a = Example()\n",
    "b = Example()\n",
    "\n",
    "a.met2(999)\n",
    "\n",
    "print(b.value)"
   ]
  },
  {
   "cell_type": "markdown",
   "metadata": {},
   "source": [
    "- classmethod를 사용하면 instance가 아니라 class 전체 변수를 다룰 수 있다."
   ]
  },
  {
   "cell_type": "code",
   "execution_count": 14,
   "metadata": {},
   "outputs": [],
   "source": [
    "class Member():\n",
    "    _ins = []\n",
    "    \n",
    "    def __init__(self, name, height, weight, fat):\n",
    "        self.name = name\n",
    "        self.height = height\n",
    "        self.weight = weight\n",
    "        self.fat = fat\n",
    "        \n",
    "        self.add_instance(self)\n",
    "    \n",
    "    @classmethod\n",
    "    def add_instance(cls, ins):\n",
    "        cls._ins.append(ins)\n",
    "            "
   ]
  },
  {
   "cell_type": "code",
   "execution_count": 15,
   "metadata": {},
   "outputs": [],
   "source": [
    "a = Member('kim', 180, 77, 24)\n",
    "b = Member('lim', 170, 71, 18)\n",
    "c = Member('choi', 160, 56, 20)\n",
    "d = Member('park', 175, 80, 23)"
   ]
  },
  {
   "cell_type": "code",
   "execution_count": 17,
   "metadata": {},
   "outputs": [
    {
     "name": "stdout",
     "output_type": "stream",
     "text": [
      "height_mean :  171.25\n"
     ]
    }
   ],
   "source": [
    "height_mean = sum([m.height for m in Member._ins]) / len(Member._ins)\n",
    "print('height_mean : ',height_mean)"
   ]
  },
  {
   "cell_type": "markdown",
   "metadata": {},
   "source": [
    "### property"
   ]
  },
  {
   "cell_type": "code",
   "execution_count": 30,
   "metadata": {},
   "outputs": [],
   "source": [
    "class Member():\n",
    "    def __init__(self, height, weight, fat):\n",
    "        self._height = height  # 키를 저장하는 변수\n",
    "        self.weight = weight  # 몸무게를 저장하는 변수\n",
    "        self.fat = fat  # 체지방률을 저장하는 변수\n",
    "        \n",
    "    @property\n",
    "    def bmi(self):\n",
    "        height_in_meters = self.height / 100  # 키를 미터로 변환하여 저장하는 변수\n",
    "        return self.weight / (height_in_meters * height_in_meters)  # BMI 계산 결과 반환\n",
    "    \n",
    "    @property\n",
    "    def height(self):   \n",
    "        return self._height  # 키를 반환하는 getter 메서드\n",
    "    \n",
    "    @height.setter\n",
    "    def height(self, h):\n",
    "        if h < 0:\n",
    "            print('warning negative height')  # 음수 키에 대한 경고 메시지 출력\n",
    "        self._height = h  # 키를 설정하는 setter 메서드"
   ]
  },
  {
   "cell_type": "markdown",
   "metadata": {},
   "source": [
    "- property를 사용하는 경우 argument를 사용하지 않는다.\n",
    "- 그냥 특정한 값만 받는 경우에 사용함"
   ]
  },
  {
   "cell_type": "code",
   "execution_count": 31,
   "metadata": {},
   "outputs": [
    {
     "name": "stdout",
     "output_type": "stream",
     "text": [
      "26.122448979591837\n"
     ]
    }
   ],
   "source": [
    "d = Member(175, 80, 23)\n",
    "print(d.bmi)"
   ]
  },
  {
   "cell_type": "code",
   "execution_count": 32,
   "metadata": {},
   "outputs": [],
   "source": [
    "e = Member(-175, 80, 23)"
   ]
  },
  {
   "cell_type": "code",
   "execution_count": 35,
   "metadata": {},
   "outputs": [
    {
     "data": {
      "text/plain": [
       "-100"
      ]
     },
     "execution_count": 35,
     "metadata": {},
     "output_type": "execute_result"
    }
   ],
   "source": [
    "e._height"
   ]
  },
  {
   "cell_type": "code",
   "execution_count": 36,
   "metadata": {},
   "outputs": [
    {
     "data": {
      "text/plain": [
       "{'__name__': '__main__',\n",
       " '__doc__': 'Automatically created module for IPython interactive environment',\n",
       " '__package__': None,\n",
       " '__loader__': None,\n",
       " '__spec__': None,\n",
       " '__builtin__': <module 'builtins' (built-in)>,\n",
       " '__builtins__': <module 'builtins' (built-in)>,\n",
       " '_ih': ['',\n",
       "  'class Example():\\n    def met1(self, value):\\n        self.value = value\\n    \\n    @classmethod\\n    def met2(self, value):\\n        self.value = value',\n",
       "  'a = Example()\\nb = Example()\\n\\na.met2(999)\\n\\nprint(b.value)',\n",
       "  'class Example():\\n    def met1(self, value):\\n        self.value = value  # self.value에 전달된 값(value)을 저장하는 메서드\\n    \\n    @classmethod\\n    def met2(cls, value):\\n        cls.value = value  # 클래스 변수 self.value에 전달된 값(value)을 저장하는 클래스 메서드',\n",
       "  'a = Example()\\nb = Example()\\n\\na.met2(999)\\n\\nprint(b.value)',\n",
       "  'class Member():\\n    _Ins = []\\n    \\n    def __init__(self, name, height, weight, fat):\\n        self.name = name:\\n        self.height = height\\n        self.weight = weight\\n        self.fat = fat\\n            ',\n",
       "  'class Member():\\n    _Ins = []\\n    \\n    def __init__(self, name, height, weight, fat):\\n        self.name = name\\n        self.height = height\\n        self.weight = weight\\n        self.fat = fat\\n            ',\n",
       "  \"a = Member('kim', 180, 77, 24)\\nb = Member('lim', 170, 71, 18)\\nc = Member('choi', 160, 56, 20)\\nd = Member('park', 175, 80, 23)\",\n",
       "  \"height_mean = sum([m.height for m in Member._ins]) / len(Member._ins)\\nprint('height_mean : ',height_mean)\",\n",
       "  'Member',\n",
       "  'Member._ins',\n",
       "  'Member._ins()',\n",
       "  'Member._Ins()',\n",
       "  'Member._Ins',\n",
       "  'class Member():\\n    _ins = []\\n    \\n    def __init__(self, name, height, weight, fat):\\n        self.name = name\\n        self.height = height\\n        self.weight = weight\\n        self.fat = fat\\n        \\n        self.add_instance(self)\\n    \\n    @classmethod\\n    def add_instance(cls, ins):\\n        cls._ins.append(ins)\\n            ',\n",
       "  \"a = Member('kim', 180, 77, 24)\\nb = Member('lim', 170, 71, 18)\\nc = Member('choi', 160, 56, 20)\\nd = Member('park', 175, 80, 23)\",\n",
       "  'Member._ins',\n",
       "  \"height_mean = sum([m.height for m in Member._ins]) / len(Member._ins)\\nprint('height_mean : ',height_mean)\",\n",
       "  'class Member():\\n    def __init__(self,height, weight, fat):\\n        self.height = height\\n        self.weight = weight\\n        self.fat = fat\\n        \\n    @property\\n    def bmi(self):\\n        height_in_meters = self.height / 100\\n        return self.weight / (height_in_meters * height_in_meters)\\n            ',\n",
       "  'd = Member(175, 80, 23)\\nprint(d.bmi)',\n",
       "  'class Member():\\n    def __init__(self,height, weight, fat):\\n        self.height = height\\n        self.weight = weight\\n        self.fat = fat\\n        \\n    @property\\n    def bmi(self):\\n        height_in_meters = self.height / 100\\n        return self.weight / (height_in_meters * height_in_meters)\\n    \\n    @bmi.setter\\n    def bmi(self,h):\\n        self.height = h\\n        height_in_meters = self.height / 100\\n        return self.weight / (height_in_meters * height_in_meters)\\n            ',\n",
       "  'd = Member(175, 80, 23)\\nprint(d.bmi)',\n",
       "  'print(d.bmi = 173)',\n",
       "  'class Member():\\n    def __init__(self,height, weight, fat):\\n        self.height = height\\n        self.weight = weight\\n        self.fat = fat\\n        \\n    @property\\n    def bmi(self):\\n        height_in_meters = self.height / 100\\n        return self.weight / (height_in_meters * height_in_meters)\\n    \\n    @height.setter\\n    def height(self,h):\\n        self.height = h\\n            ',\n",
       "  'class Member():\\n    def __init__(self,height, weight, fat):\\n        self._height = height\\n        self.weight = weight\\n        self.fat = fat\\n        \\n    @property\\n    def bmi(self):\\n        height_in_meters = self.height / 100\\n        return self.weight / (height_in_meters * height_in_meters)\\n    \\n    @height.setter\\n    def height(self,h):\\n        self._height = h\\n            ',\n",
       "  'class Member():\\n    def __init__(self,height, weight, fat):\\n        self._height = height\\n        self.weight = weight\\n        self.fat = fat\\n        \\n    @property\\n    def bmi(self):\\n        height_in_meters = self.height / 100\\n        return self.weight / (height_in_meters * height_in_meters)\\n    \\n    @property\\n    def height(self):   \\n        return self._height\\n    \\n    @height.setter\\n    def height(self,h):\\n        self._height = h\\n            ',\n",
       "  'd = Member(175, 80, 23)\\nprint(d.bmi)',\n",
       "  'e = Member(-175, 80, 23)',\n",
       "  \"class Member():\\n    def __init__(self,height, weight, fat):\\n        self._height = height\\n        self.weight = weight\\n        self.fat = fat\\n        \\n    @property\\n    def bmi(self):\\n        height_in_meters = self.height / 100\\n        return self.weight / (height_in_meters * height_in_meters)\\n    \\n    @property\\n    def height(self):   \\n        return self._height\\n    \\n    @height.setter\\n    def height(self,h):\\n        if h < 0:\\n            print('warning negative height')\\n        self._height = h\\n            \",\n",
       "  \"class Member():\\n    def __init__(self,height, weight, fat):\\n        self._height = height\\n        self.weight = weight\\n        self.fat = fat\\n        \\n    @property\\n    def bmi(self):\\n        height_in_meters = self.height / 100\\n        return self.weight / (height_in_meters * height_in_meters)\\n    \\n    @property\\n    def height(self):   \\n        return self._height\\n    \\n    @height.setter\\n    def height(self,h):\\n        if h < 0:\\n            print('warning negative height')\\n        self._height = h\\n            \",\n",
       "  \"class Member():\\n    def __init__(self,height, weight, fat):\\n        self._height = height\\n        self.weight = weight\\n        self.fat = fat\\n        \\n    @property\\n    def bmi(self):\\n        height_in_meters = self.height / 100\\n        return self.weight / (height_in_meters * height_in_meters)\\n    \\n    @property\\n    def height(self):   \\n        return self._height\\n    \\n    @height.setter\\n    def height(self,h):\\n        if h < 0:\\n            print('warning negative height')\\n        self._height = h\\n            \",\n",
       "  'd = Member(175, 80, 23)\\nprint(d.bmi)',\n",
       "  'e = Member(-175, 80, 23)',\n",
       "  'e.height = -100',\n",
       "  'e.height',\n",
       "  'e._height',\n",
       "  'globals()'],\n",
       " '_oh': {9: __main__.Member,\n",
       "  13: [],\n",
       "  16: [<__main__.Member at 0x280190316a0>,\n",
       "   <__main__.Member at 0x28019031eb0>,\n",
       "   <__main__.Member at 0x28019031610>,\n",
       "   <__main__.Member at 0x28017b00af0>],\n",
       "  34: -100,\n",
       "  35: -100},\n",
       " '_dh': [WindowsPath('c:/Users/ysj_1/Documents/python_power_up'),\n",
       "  WindowsPath('c:/Users/ysj_1/Documents/python_power_up')],\n",
       " 'In': ['',\n",
       "  'class Example():\\n    def met1(self, value):\\n        self.value = value\\n    \\n    @classmethod\\n    def met2(self, value):\\n        self.value = value',\n",
       "  'a = Example()\\nb = Example()\\n\\na.met2(999)\\n\\nprint(b.value)',\n",
       "  'class Example():\\n    def met1(self, value):\\n        self.value = value  # self.value에 전달된 값(value)을 저장하는 메서드\\n    \\n    @classmethod\\n    def met2(cls, value):\\n        cls.value = value  # 클래스 변수 self.value에 전달된 값(value)을 저장하는 클래스 메서드',\n",
       "  'a = Example()\\nb = Example()\\n\\na.met2(999)\\n\\nprint(b.value)',\n",
       "  'class Member():\\n    _Ins = []\\n    \\n    def __init__(self, name, height, weight, fat):\\n        self.name = name:\\n        self.height = height\\n        self.weight = weight\\n        self.fat = fat\\n            ',\n",
       "  'class Member():\\n    _Ins = []\\n    \\n    def __init__(self, name, height, weight, fat):\\n        self.name = name\\n        self.height = height\\n        self.weight = weight\\n        self.fat = fat\\n            ',\n",
       "  \"a = Member('kim', 180, 77, 24)\\nb = Member('lim', 170, 71, 18)\\nc = Member('choi', 160, 56, 20)\\nd = Member('park', 175, 80, 23)\",\n",
       "  \"height_mean = sum([m.height for m in Member._ins]) / len(Member._ins)\\nprint('height_mean : ',height_mean)\",\n",
       "  'Member',\n",
       "  'Member._ins',\n",
       "  'Member._ins()',\n",
       "  'Member._Ins()',\n",
       "  'Member._Ins',\n",
       "  'class Member():\\n    _ins = []\\n    \\n    def __init__(self, name, height, weight, fat):\\n        self.name = name\\n        self.height = height\\n        self.weight = weight\\n        self.fat = fat\\n        \\n        self.add_instance(self)\\n    \\n    @classmethod\\n    def add_instance(cls, ins):\\n        cls._ins.append(ins)\\n            ',\n",
       "  \"a = Member('kim', 180, 77, 24)\\nb = Member('lim', 170, 71, 18)\\nc = Member('choi', 160, 56, 20)\\nd = Member('park', 175, 80, 23)\",\n",
       "  'Member._ins',\n",
       "  \"height_mean = sum([m.height for m in Member._ins]) / len(Member._ins)\\nprint('height_mean : ',height_mean)\",\n",
       "  'class Member():\\n    def __init__(self,height, weight, fat):\\n        self.height = height\\n        self.weight = weight\\n        self.fat = fat\\n        \\n    @property\\n    def bmi(self):\\n        height_in_meters = self.height / 100\\n        return self.weight / (height_in_meters * height_in_meters)\\n            ',\n",
       "  'd = Member(175, 80, 23)\\nprint(d.bmi)',\n",
       "  'class Member():\\n    def __init__(self,height, weight, fat):\\n        self.height = height\\n        self.weight = weight\\n        self.fat = fat\\n        \\n    @property\\n    def bmi(self):\\n        height_in_meters = self.height / 100\\n        return self.weight / (height_in_meters * height_in_meters)\\n    \\n    @bmi.setter\\n    def bmi(self,h):\\n        self.height = h\\n        height_in_meters = self.height / 100\\n        return self.weight / (height_in_meters * height_in_meters)\\n            ',\n",
       "  'd = Member(175, 80, 23)\\nprint(d.bmi)',\n",
       "  'print(d.bmi = 173)',\n",
       "  'class Member():\\n    def __init__(self,height, weight, fat):\\n        self.height = height\\n        self.weight = weight\\n        self.fat = fat\\n        \\n    @property\\n    def bmi(self):\\n        height_in_meters = self.height / 100\\n        return self.weight / (height_in_meters * height_in_meters)\\n    \\n    @height.setter\\n    def height(self,h):\\n        self.height = h\\n            ',\n",
       "  'class Member():\\n    def __init__(self,height, weight, fat):\\n        self._height = height\\n        self.weight = weight\\n        self.fat = fat\\n        \\n    @property\\n    def bmi(self):\\n        height_in_meters = self.height / 100\\n        return self.weight / (height_in_meters * height_in_meters)\\n    \\n    @height.setter\\n    def height(self,h):\\n        self._height = h\\n            ',\n",
       "  'class Member():\\n    def __init__(self,height, weight, fat):\\n        self._height = height\\n        self.weight = weight\\n        self.fat = fat\\n        \\n    @property\\n    def bmi(self):\\n        height_in_meters = self.height / 100\\n        return self.weight / (height_in_meters * height_in_meters)\\n    \\n    @property\\n    def height(self):   \\n        return self._height\\n    \\n    @height.setter\\n    def height(self,h):\\n        self._height = h\\n            ',\n",
       "  'd = Member(175, 80, 23)\\nprint(d.bmi)',\n",
       "  'e = Member(-175, 80, 23)',\n",
       "  \"class Member():\\n    def __init__(self,height, weight, fat):\\n        self._height = height\\n        self.weight = weight\\n        self.fat = fat\\n        \\n    @property\\n    def bmi(self):\\n        height_in_meters = self.height / 100\\n        return self.weight / (height_in_meters * height_in_meters)\\n    \\n    @property\\n    def height(self):   \\n        return self._height\\n    \\n    @height.setter\\n    def height(self,h):\\n        if h < 0:\\n            print('warning negative height')\\n        self._height = h\\n            \",\n",
       "  \"class Member():\\n    def __init__(self,height, weight, fat):\\n        self._height = height\\n        self.weight = weight\\n        self.fat = fat\\n        \\n    @property\\n    def bmi(self):\\n        height_in_meters = self.height / 100\\n        return self.weight / (height_in_meters * height_in_meters)\\n    \\n    @property\\n    def height(self):   \\n        return self._height\\n    \\n    @height.setter\\n    def height(self,h):\\n        if h < 0:\\n            print('warning negative height')\\n        self._height = h\\n            \",\n",
       "  \"class Member():\\n    def __init__(self,height, weight, fat):\\n        self._height = height\\n        self.weight = weight\\n        self.fat = fat\\n        \\n    @property\\n    def bmi(self):\\n        height_in_meters = self.height / 100\\n        return self.weight / (height_in_meters * height_in_meters)\\n    \\n    @property\\n    def height(self):   \\n        return self._height\\n    \\n    @height.setter\\n    def height(self,h):\\n        if h < 0:\\n            print('warning negative height')\\n        self._height = h\\n            \",\n",
       "  'd = Member(175, 80, 23)\\nprint(d.bmi)',\n",
       "  'e = Member(-175, 80, 23)',\n",
       "  'e.height = -100',\n",
       "  'e.height',\n",
       "  'e._height',\n",
       "  'globals()'],\n",
       " 'Out': {9: __main__.Member,\n",
       "  13: [],\n",
       "  16: [<__main__.Member at 0x280190316a0>,\n",
       "   <__main__.Member at 0x28019031eb0>,\n",
       "   <__main__.Member at 0x28019031610>,\n",
       "   <__main__.Member at 0x28017b00af0>],\n",
       "  34: -100,\n",
       "  35: -100},\n",
       " 'get_ipython': <bound method InteractiveShell.get_ipython of <ipykernel.zmqshell.ZMQInteractiveShell object at 0x0000028017A78970>>,\n",
       " 'exit': <IPython.core.autocall.ZMQExitAutocall at 0x28017a62fd0>,\n",
       " 'quit': <IPython.core.autocall.ZMQExitAutocall at 0x28017a62fd0>,\n",
       " 'open': <function io.open(file, mode='r', buffering=-1, encoding=None, errors=None, newline=None, closefd=True, opener=None)>,\n",
       " '_': -100,\n",
       " '__': -100,\n",
       " '___': [<__main__.Member at 0x280190316a0>,\n",
       "  <__main__.Member at 0x28019031eb0>,\n",
       "  <__main__.Member at 0x28019031610>,\n",
       "  <__main__.Member at 0x28017b00af0>],\n",
       " '__vsc_ipynb_file__': 'c:\\\\Users\\\\ysj_1\\\\Documents\\\\python_power_up\\\\5_decorator.ipynb',\n",
       " '_i': 'e._height',\n",
       " '_ii': 'e.height',\n",
       " '_iii': 'e.height = -100',\n",
       " '_i1': 'class Example():\\n    def met1(self, value):\\n        self.value = value\\n    \\n    @classmethod\\n    def met2(self, value):\\n        self.value = value',\n",
       " 'Example': __main__.Example,\n",
       " '_i2': 'a = Example()\\nb = Example()\\n\\na.met2(999)\\n\\nprint(b.value)',\n",
       " 'a': <__main__.Member at 0x280190316a0>,\n",
       " 'b': <__main__.Member at 0x28019031eb0>,\n",
       " '_i3': 'class Example():\\n    def met1(self, value):\\n        self.value = value  # self.value에 전달된 값(value)을 저장하는 메서드\\n    \\n    @classmethod\\n    def met2(cls, value):\\n        cls.value = value  # 클래스 변수 self.value에 전달된 값(value)을 저장하는 클래스 메서드',\n",
       " '_i4': 'a = Example()\\nb = Example()\\n\\na.met2(999)\\n\\nprint(b.value)',\n",
       " '_i5': 'class Member():\\n    _Ins = []\\n    \\n    def __init__(self, name, height, weight, fat):\\n        self.name = name:\\n        self.height = height\\n        self.weight = weight\\n        self.fat = fat\\n            ',\n",
       " '_i6': 'class Member():\\n    _Ins = []\\n    \\n    def __init__(self, name, height, weight, fat):\\n        self.name = name\\n        self.height = height\\n        self.weight = weight\\n        self.fat = fat\\n            ',\n",
       " 'Member': __main__.Member,\n",
       " '_i7': \"a = Member('kim', 180, 77, 24)\\nb = Member('lim', 170, 71, 18)\\nc = Member('choi', 160, 56, 20)\\nd = Member('park', 175, 80, 23)\",\n",
       " 'c': <__main__.Member at 0x28019031610>,\n",
       " 'd': <__main__.Member at 0x28018e6aac0>,\n",
       " '_i8': \"height_mean = sum([m.height for m in Member._ins]) / len(Member._ins)\\nprint('height_mean : ',height_mean)\",\n",
       " '_i9': 'Member',\n",
       " '_9': __main__.Member,\n",
       " '_i10': 'Member._ins',\n",
       " '_i11': 'Member._ins()',\n",
       " '_i12': 'Member._Ins()',\n",
       " '_i13': 'Member._Ins',\n",
       " '_13': [],\n",
       " '_i14': 'class Member():\\n    _ins = []\\n    \\n    def __init__(self, name, height, weight, fat):\\n        self.name = name\\n        self.height = height\\n        self.weight = weight\\n        self.fat = fat\\n        \\n        self.add_instance(self)\\n    \\n    @classmethod\\n    def add_instance(cls, ins):\\n        cls._ins.append(ins)\\n            ',\n",
       " '_i15': \"a = Member('kim', 180, 77, 24)\\nb = Member('lim', 170, 71, 18)\\nc = Member('choi', 160, 56, 20)\\nd = Member('park', 175, 80, 23)\",\n",
       " '_i16': 'Member._ins',\n",
       " '_16': [<__main__.Member at 0x280190316a0>,\n",
       "  <__main__.Member at 0x28019031eb0>,\n",
       "  <__main__.Member at 0x28019031610>,\n",
       "  <__main__.Member at 0x28017b00af0>],\n",
       " '_i17': \"height_mean = sum([m.height for m in Member._ins]) / len(Member._ins)\\nprint('height_mean : ',height_mean)\",\n",
       " 'height_mean': 171.25,\n",
       " '_i18': 'class Member():\\n    def __init__(self,height, weight, fat):\\n        self.height = height\\n        self.weight = weight\\n        self.fat = fat\\n        \\n    @property\\n    def bmi(self):\\n        height_in_meters = self.height / 100\\n        return self.weight / (height_in_meters * height_in_meters)\\n            ',\n",
       " '_i19': 'd = Member(175, 80, 23)\\nprint(d.bmi)',\n",
       " '_i20': 'class Member():\\n    def __init__(self,height, weight, fat):\\n        self.height = height\\n        self.weight = weight\\n        self.fat = fat\\n        \\n    @property\\n    def bmi(self):\\n        height_in_meters = self.height / 100\\n        return self.weight / (height_in_meters * height_in_meters)\\n    \\n    @bmi.setter\\n    def bmi(self,h):\\n        self.height = h\\n        height_in_meters = self.height / 100\\n        return self.weight / (height_in_meters * height_in_meters)\\n            ',\n",
       " '_i21': 'd = Member(175, 80, 23)\\nprint(d.bmi)',\n",
       " '_i22': 'print(d.bmi = 173)',\n",
       " '_i23': 'class Member():\\n    def __init__(self,height, weight, fat):\\n        self.height = height\\n        self.weight = weight\\n        self.fat = fat\\n        \\n    @property\\n    def bmi(self):\\n        height_in_meters = self.height / 100\\n        return self.weight / (height_in_meters * height_in_meters)\\n    \\n    @height.setter\\n    def height(self,h):\\n        self.height = h\\n            ',\n",
       " '_i24': 'class Member():\\n    def __init__(self,height, weight, fat):\\n        self._height = height\\n        self.weight = weight\\n        self.fat = fat\\n        \\n    @property\\n    def bmi(self):\\n        height_in_meters = self.height / 100\\n        return self.weight / (height_in_meters * height_in_meters)\\n    \\n    @height.setter\\n    def height(self,h):\\n        self._height = h\\n            ',\n",
       " '_i25': 'class Member():\\n    def __init__(self,height, weight, fat):\\n        self._height = height\\n        self.weight = weight\\n        self.fat = fat\\n        \\n    @property\\n    def bmi(self):\\n        height_in_meters = self.height / 100\\n        return self.weight / (height_in_meters * height_in_meters)\\n    \\n    @property\\n    def height(self):   \\n        return self._height\\n    \\n    @height.setter\\n    def height(self,h):\\n        self._height = h\\n            ',\n",
       " '_i26': 'd = Member(175, 80, 23)\\nprint(d.bmi)',\n",
       " '_i27': 'e = Member(-175, 80, 23)',\n",
       " 'e': <__main__.Member at 0x28018e6aa60>,\n",
       " '_i28': \"class Member():\\n    def __init__(self,height, weight, fat):\\n        self._height = height\\n        self.weight = weight\\n        self.fat = fat\\n        \\n    @property\\n    def bmi(self):\\n        height_in_meters = self.height / 100\\n        return self.weight / (height_in_meters * height_in_meters)\\n    \\n    @property\\n    def height(self):   \\n        return self._height\\n    \\n    @height.setter\\n    def height(self,h):\\n        if h < 0:\\n            print('warning negative height')\\n        self._height = h\\n            \",\n",
       " '_i29': \"class Member():\\n    def __init__(self,height, weight, fat):\\n        self._height = height\\n        self.weight = weight\\n        self.fat = fat\\n        \\n    @property\\n    def bmi(self):\\n        height_in_meters = self.height / 100\\n        return self.weight / (height_in_meters * height_in_meters)\\n    \\n    @property\\n    def height(self):   \\n        return self._height\\n    \\n    @height.setter\\n    def height(self,h):\\n        if h < 0:\\n            print('warning negative height')\\n        self._height = h\\n            \",\n",
       " '_i30': \"class Member():\\n    def __init__(self,height, weight, fat):\\n        self._height = height\\n        self.weight = weight\\n        self.fat = fat\\n        \\n    @property\\n    def bmi(self):\\n        height_in_meters = self.height / 100\\n        return self.weight / (height_in_meters * height_in_meters)\\n    \\n    @property\\n    def height(self):   \\n        return self._height\\n    \\n    @height.setter\\n    def height(self,h):\\n        if h < 0:\\n            print('warning negative height')\\n        self._height = h\\n            \",\n",
       " '_i31': 'd = Member(175, 80, 23)\\nprint(d.bmi)',\n",
       " '_i32': 'e = Member(-175, 80, 23)',\n",
       " '_i33': 'e.height = -100',\n",
       " '_i34': 'e.height',\n",
       " '_34': -100,\n",
       " '_i35': 'e._height',\n",
       " '_35': -100,\n",
       " '_i36': 'globals()'}"
      ]
     },
     "execution_count": 36,
     "metadata": {},
     "output_type": "execute_result"
    }
   ],
   "source": [
    "globals()"
   ]
  },
  {
   "cell_type": "code",
   "execution_count": 37,
   "metadata": {},
   "outputs": [
    {
     "data": {
      "text/plain": [
       "{'__name__': '__main__',\n",
       " '__doc__': 'Automatically created module for IPython interactive environment',\n",
       " '__package__': None,\n",
       " '__loader__': None,\n",
       " '__spec__': None,\n",
       " '__builtin__': <module 'builtins' (built-in)>,\n",
       " '__builtins__': <module 'builtins' (built-in)>,\n",
       " '_ih': ['',\n",
       "  'class Example():\\n    def met1(self, value):\\n        self.value = value\\n    \\n    @classmethod\\n    def met2(self, value):\\n        self.value = value',\n",
       "  'a = Example()\\nb = Example()\\n\\na.met2(999)\\n\\nprint(b.value)',\n",
       "  'class Example():\\n    def met1(self, value):\\n        self.value = value  # self.value에 전달된 값(value)을 저장하는 메서드\\n    \\n    @classmethod\\n    def met2(cls, value):\\n        cls.value = value  # 클래스 변수 self.value에 전달된 값(value)을 저장하는 클래스 메서드',\n",
       "  'a = Example()\\nb = Example()\\n\\na.met2(999)\\n\\nprint(b.value)',\n",
       "  'class Member():\\n    _Ins = []\\n    \\n    def __init__(self, name, height, weight, fat):\\n        self.name = name:\\n        self.height = height\\n        self.weight = weight\\n        self.fat = fat\\n            ',\n",
       "  'class Member():\\n    _Ins = []\\n    \\n    def __init__(self, name, height, weight, fat):\\n        self.name = name\\n        self.height = height\\n        self.weight = weight\\n        self.fat = fat\\n            ',\n",
       "  \"a = Member('kim', 180, 77, 24)\\nb = Member('lim', 170, 71, 18)\\nc = Member('choi', 160, 56, 20)\\nd = Member('park', 175, 80, 23)\",\n",
       "  \"height_mean = sum([m.height for m in Member._ins]) / len(Member._ins)\\nprint('height_mean : ',height_mean)\",\n",
       "  'Member',\n",
       "  'Member._ins',\n",
       "  'Member._ins()',\n",
       "  'Member._Ins()',\n",
       "  'Member._Ins',\n",
       "  'class Member():\\n    _ins = []\\n    \\n    def __init__(self, name, height, weight, fat):\\n        self.name = name\\n        self.height = height\\n        self.weight = weight\\n        self.fat = fat\\n        \\n        self.add_instance(self)\\n    \\n    @classmethod\\n    def add_instance(cls, ins):\\n        cls._ins.append(ins)\\n            ',\n",
       "  \"a = Member('kim', 180, 77, 24)\\nb = Member('lim', 170, 71, 18)\\nc = Member('choi', 160, 56, 20)\\nd = Member('park', 175, 80, 23)\",\n",
       "  'Member._ins',\n",
       "  \"height_mean = sum([m.height for m in Member._ins]) / len(Member._ins)\\nprint('height_mean : ',height_mean)\",\n",
       "  'class Member():\\n    def __init__(self,height, weight, fat):\\n        self.height = height\\n        self.weight = weight\\n        self.fat = fat\\n        \\n    @property\\n    def bmi(self):\\n        height_in_meters = self.height / 100\\n        return self.weight / (height_in_meters * height_in_meters)\\n            ',\n",
       "  'd = Member(175, 80, 23)\\nprint(d.bmi)',\n",
       "  'class Member():\\n    def __init__(self,height, weight, fat):\\n        self.height = height\\n        self.weight = weight\\n        self.fat = fat\\n        \\n    @property\\n    def bmi(self):\\n        height_in_meters = self.height / 100\\n        return self.weight / (height_in_meters * height_in_meters)\\n    \\n    @bmi.setter\\n    def bmi(self,h):\\n        self.height = h\\n        height_in_meters = self.height / 100\\n        return self.weight / (height_in_meters * height_in_meters)\\n            ',\n",
       "  'd = Member(175, 80, 23)\\nprint(d.bmi)',\n",
       "  'print(d.bmi = 173)',\n",
       "  'class Member():\\n    def __init__(self,height, weight, fat):\\n        self.height = height\\n        self.weight = weight\\n        self.fat = fat\\n        \\n    @property\\n    def bmi(self):\\n        height_in_meters = self.height / 100\\n        return self.weight / (height_in_meters * height_in_meters)\\n    \\n    @height.setter\\n    def height(self,h):\\n        self.height = h\\n            ',\n",
       "  'class Member():\\n    def __init__(self,height, weight, fat):\\n        self._height = height\\n        self.weight = weight\\n        self.fat = fat\\n        \\n    @property\\n    def bmi(self):\\n        height_in_meters = self.height / 100\\n        return self.weight / (height_in_meters * height_in_meters)\\n    \\n    @height.setter\\n    def height(self,h):\\n        self._height = h\\n            ',\n",
       "  'class Member():\\n    def __init__(self,height, weight, fat):\\n        self._height = height\\n        self.weight = weight\\n        self.fat = fat\\n        \\n    @property\\n    def bmi(self):\\n        height_in_meters = self.height / 100\\n        return self.weight / (height_in_meters * height_in_meters)\\n    \\n    @property\\n    def height(self):   \\n        return self._height\\n    \\n    @height.setter\\n    def height(self,h):\\n        self._height = h\\n            ',\n",
       "  'd = Member(175, 80, 23)\\nprint(d.bmi)',\n",
       "  'e = Member(-175, 80, 23)',\n",
       "  \"class Member():\\n    def __init__(self,height, weight, fat):\\n        self._height = height\\n        self.weight = weight\\n        self.fat = fat\\n        \\n    @property\\n    def bmi(self):\\n        height_in_meters = self.height / 100\\n        return self.weight / (height_in_meters * height_in_meters)\\n    \\n    @property\\n    def height(self):   \\n        return self._height\\n    \\n    @height.setter\\n    def height(self,h):\\n        if h < 0:\\n            print('warning negative height')\\n        self._height = h\\n            \",\n",
       "  \"class Member():\\n    def __init__(self,height, weight, fat):\\n        self._height = height\\n        self.weight = weight\\n        self.fat = fat\\n        \\n    @property\\n    def bmi(self):\\n        height_in_meters = self.height / 100\\n        return self.weight / (height_in_meters * height_in_meters)\\n    \\n    @property\\n    def height(self):   \\n        return self._height\\n    \\n    @height.setter\\n    def height(self,h):\\n        if h < 0:\\n            print('warning negative height')\\n        self._height = h\\n            \",\n",
       "  \"class Member():\\n    def __init__(self,height, weight, fat):\\n        self._height = height\\n        self.weight = weight\\n        self.fat = fat\\n        \\n    @property\\n    def bmi(self):\\n        height_in_meters = self.height / 100\\n        return self.weight / (height_in_meters * height_in_meters)\\n    \\n    @property\\n    def height(self):   \\n        return self._height\\n    \\n    @height.setter\\n    def height(self,h):\\n        if h < 0:\\n            print('warning negative height')\\n        self._height = h\\n            \",\n",
       "  'd = Member(175, 80, 23)\\nprint(d.bmi)',\n",
       "  'e = Member(-175, 80, 23)',\n",
       "  'e.height = -100',\n",
       "  'e.height',\n",
       "  'e._height',\n",
       "  'globals()',\n",
       "  'locals()'],\n",
       " '_oh': {9: __main__.Member,\n",
       "  13: [],\n",
       "  16: [<__main__.Member at 0x280190316a0>,\n",
       "   <__main__.Member at 0x28019031eb0>,\n",
       "   <__main__.Member at 0x28019031610>,\n",
       "   <__main__.Member at 0x28017b00af0>],\n",
       "  34: -100,\n",
       "  35: -100,\n",
       "  36: {...}},\n",
       " '_dh': [WindowsPath('c:/Users/ysj_1/Documents/python_power_up'),\n",
       "  WindowsPath('c:/Users/ysj_1/Documents/python_power_up')],\n",
       " 'In': ['',\n",
       "  'class Example():\\n    def met1(self, value):\\n        self.value = value\\n    \\n    @classmethod\\n    def met2(self, value):\\n        self.value = value',\n",
       "  'a = Example()\\nb = Example()\\n\\na.met2(999)\\n\\nprint(b.value)',\n",
       "  'class Example():\\n    def met1(self, value):\\n        self.value = value  # self.value에 전달된 값(value)을 저장하는 메서드\\n    \\n    @classmethod\\n    def met2(cls, value):\\n        cls.value = value  # 클래스 변수 self.value에 전달된 값(value)을 저장하는 클래스 메서드',\n",
       "  'a = Example()\\nb = Example()\\n\\na.met2(999)\\n\\nprint(b.value)',\n",
       "  'class Member():\\n    _Ins = []\\n    \\n    def __init__(self, name, height, weight, fat):\\n        self.name = name:\\n        self.height = height\\n        self.weight = weight\\n        self.fat = fat\\n            ',\n",
       "  'class Member():\\n    _Ins = []\\n    \\n    def __init__(self, name, height, weight, fat):\\n        self.name = name\\n        self.height = height\\n        self.weight = weight\\n        self.fat = fat\\n            ',\n",
       "  \"a = Member('kim', 180, 77, 24)\\nb = Member('lim', 170, 71, 18)\\nc = Member('choi', 160, 56, 20)\\nd = Member('park', 175, 80, 23)\",\n",
       "  \"height_mean = sum([m.height for m in Member._ins]) / len(Member._ins)\\nprint('height_mean : ',height_mean)\",\n",
       "  'Member',\n",
       "  'Member._ins',\n",
       "  'Member._ins()',\n",
       "  'Member._Ins()',\n",
       "  'Member._Ins',\n",
       "  'class Member():\\n    _ins = []\\n    \\n    def __init__(self, name, height, weight, fat):\\n        self.name = name\\n        self.height = height\\n        self.weight = weight\\n        self.fat = fat\\n        \\n        self.add_instance(self)\\n    \\n    @classmethod\\n    def add_instance(cls, ins):\\n        cls._ins.append(ins)\\n            ',\n",
       "  \"a = Member('kim', 180, 77, 24)\\nb = Member('lim', 170, 71, 18)\\nc = Member('choi', 160, 56, 20)\\nd = Member('park', 175, 80, 23)\",\n",
       "  'Member._ins',\n",
       "  \"height_mean = sum([m.height for m in Member._ins]) / len(Member._ins)\\nprint('height_mean : ',height_mean)\",\n",
       "  'class Member():\\n    def __init__(self,height, weight, fat):\\n        self.height = height\\n        self.weight = weight\\n        self.fat = fat\\n        \\n    @property\\n    def bmi(self):\\n        height_in_meters = self.height / 100\\n        return self.weight / (height_in_meters * height_in_meters)\\n            ',\n",
       "  'd = Member(175, 80, 23)\\nprint(d.bmi)',\n",
       "  'class Member():\\n    def __init__(self,height, weight, fat):\\n        self.height = height\\n        self.weight = weight\\n        self.fat = fat\\n        \\n    @property\\n    def bmi(self):\\n        height_in_meters = self.height / 100\\n        return self.weight / (height_in_meters * height_in_meters)\\n    \\n    @bmi.setter\\n    def bmi(self,h):\\n        self.height = h\\n        height_in_meters = self.height / 100\\n        return self.weight / (height_in_meters * height_in_meters)\\n            ',\n",
       "  'd = Member(175, 80, 23)\\nprint(d.bmi)',\n",
       "  'print(d.bmi = 173)',\n",
       "  'class Member():\\n    def __init__(self,height, weight, fat):\\n        self.height = height\\n        self.weight = weight\\n        self.fat = fat\\n        \\n    @property\\n    def bmi(self):\\n        height_in_meters = self.height / 100\\n        return self.weight / (height_in_meters * height_in_meters)\\n    \\n    @height.setter\\n    def height(self,h):\\n        self.height = h\\n            ',\n",
       "  'class Member():\\n    def __init__(self,height, weight, fat):\\n        self._height = height\\n        self.weight = weight\\n        self.fat = fat\\n        \\n    @property\\n    def bmi(self):\\n        height_in_meters = self.height / 100\\n        return self.weight / (height_in_meters * height_in_meters)\\n    \\n    @height.setter\\n    def height(self,h):\\n        self._height = h\\n            ',\n",
       "  'class Member():\\n    def __init__(self,height, weight, fat):\\n        self._height = height\\n        self.weight = weight\\n        self.fat = fat\\n        \\n    @property\\n    def bmi(self):\\n        height_in_meters = self.height / 100\\n        return self.weight / (height_in_meters * height_in_meters)\\n    \\n    @property\\n    def height(self):   \\n        return self._height\\n    \\n    @height.setter\\n    def height(self,h):\\n        self._height = h\\n            ',\n",
       "  'd = Member(175, 80, 23)\\nprint(d.bmi)',\n",
       "  'e = Member(-175, 80, 23)',\n",
       "  \"class Member():\\n    def __init__(self,height, weight, fat):\\n        self._height = height\\n        self.weight = weight\\n        self.fat = fat\\n        \\n    @property\\n    def bmi(self):\\n        height_in_meters = self.height / 100\\n        return self.weight / (height_in_meters * height_in_meters)\\n    \\n    @property\\n    def height(self):   \\n        return self._height\\n    \\n    @height.setter\\n    def height(self,h):\\n        if h < 0:\\n            print('warning negative height')\\n        self._height = h\\n            \",\n",
       "  \"class Member():\\n    def __init__(self,height, weight, fat):\\n        self._height = height\\n        self.weight = weight\\n        self.fat = fat\\n        \\n    @property\\n    def bmi(self):\\n        height_in_meters = self.height / 100\\n        return self.weight / (height_in_meters * height_in_meters)\\n    \\n    @property\\n    def height(self):   \\n        return self._height\\n    \\n    @height.setter\\n    def height(self,h):\\n        if h < 0:\\n            print('warning negative height')\\n        self._height = h\\n            \",\n",
       "  \"class Member():\\n    def __init__(self,height, weight, fat):\\n        self._height = height\\n        self.weight = weight\\n        self.fat = fat\\n        \\n    @property\\n    def bmi(self):\\n        height_in_meters = self.height / 100\\n        return self.weight / (height_in_meters * height_in_meters)\\n    \\n    @property\\n    def height(self):   \\n        return self._height\\n    \\n    @height.setter\\n    def height(self,h):\\n        if h < 0:\\n            print('warning negative height')\\n        self._height = h\\n            \",\n",
       "  'd = Member(175, 80, 23)\\nprint(d.bmi)',\n",
       "  'e = Member(-175, 80, 23)',\n",
       "  'e.height = -100',\n",
       "  'e.height',\n",
       "  'e._height',\n",
       "  'globals()',\n",
       "  'locals()'],\n",
       " 'Out': {9: __main__.Member,\n",
       "  13: [],\n",
       "  16: [<__main__.Member at 0x280190316a0>,\n",
       "   <__main__.Member at 0x28019031eb0>,\n",
       "   <__main__.Member at 0x28019031610>,\n",
       "   <__main__.Member at 0x28017b00af0>],\n",
       "  34: -100,\n",
       "  35: -100,\n",
       "  36: {...}},\n",
       " 'get_ipython': <bound method InteractiveShell.get_ipython of <ipykernel.zmqshell.ZMQInteractiveShell object at 0x0000028017A78970>>,\n",
       " 'exit': <IPython.core.autocall.ZMQExitAutocall at 0x28017a62fd0>,\n",
       " 'quit': <IPython.core.autocall.ZMQExitAutocall at 0x28017a62fd0>,\n",
       " 'open': <function io.open(file, mode='r', buffering=-1, encoding=None, errors=None, newline=None, closefd=True, opener=None)>,\n",
       " '_': {...},\n",
       " '__': -100,\n",
       " '___': -100,\n",
       " '__vsc_ipynb_file__': 'c:\\\\Users\\\\ysj_1\\\\Documents\\\\python_power_up\\\\5_decorator.ipynb',\n",
       " '_i': 'globals()',\n",
       " '_ii': 'e._height',\n",
       " '_iii': 'e.height',\n",
       " '_i1': 'class Example():\\n    def met1(self, value):\\n        self.value = value\\n    \\n    @classmethod\\n    def met2(self, value):\\n        self.value = value',\n",
       " 'Example': __main__.Example,\n",
       " '_i2': 'a = Example()\\nb = Example()\\n\\na.met2(999)\\n\\nprint(b.value)',\n",
       " 'a': <__main__.Member at 0x280190316a0>,\n",
       " 'b': <__main__.Member at 0x28019031eb0>,\n",
       " '_i3': 'class Example():\\n    def met1(self, value):\\n        self.value = value  # self.value에 전달된 값(value)을 저장하는 메서드\\n    \\n    @classmethod\\n    def met2(cls, value):\\n        cls.value = value  # 클래스 변수 self.value에 전달된 값(value)을 저장하는 클래스 메서드',\n",
       " '_i4': 'a = Example()\\nb = Example()\\n\\na.met2(999)\\n\\nprint(b.value)',\n",
       " '_i5': 'class Member():\\n    _Ins = []\\n    \\n    def __init__(self, name, height, weight, fat):\\n        self.name = name:\\n        self.height = height\\n        self.weight = weight\\n        self.fat = fat\\n            ',\n",
       " '_i6': 'class Member():\\n    _Ins = []\\n    \\n    def __init__(self, name, height, weight, fat):\\n        self.name = name\\n        self.height = height\\n        self.weight = weight\\n        self.fat = fat\\n            ',\n",
       " 'Member': __main__.Member,\n",
       " '_i7': \"a = Member('kim', 180, 77, 24)\\nb = Member('lim', 170, 71, 18)\\nc = Member('choi', 160, 56, 20)\\nd = Member('park', 175, 80, 23)\",\n",
       " 'c': <__main__.Member at 0x28019031610>,\n",
       " 'd': <__main__.Member at 0x28018e6aac0>,\n",
       " '_i8': \"height_mean = sum([m.height for m in Member._ins]) / len(Member._ins)\\nprint('height_mean : ',height_mean)\",\n",
       " '_i9': 'Member',\n",
       " '_9': __main__.Member,\n",
       " '_i10': 'Member._ins',\n",
       " '_i11': 'Member._ins()',\n",
       " '_i12': 'Member._Ins()',\n",
       " '_i13': 'Member._Ins',\n",
       " '_13': [],\n",
       " '_i14': 'class Member():\\n    _ins = []\\n    \\n    def __init__(self, name, height, weight, fat):\\n        self.name = name\\n        self.height = height\\n        self.weight = weight\\n        self.fat = fat\\n        \\n        self.add_instance(self)\\n    \\n    @classmethod\\n    def add_instance(cls, ins):\\n        cls._ins.append(ins)\\n            ',\n",
       " '_i15': \"a = Member('kim', 180, 77, 24)\\nb = Member('lim', 170, 71, 18)\\nc = Member('choi', 160, 56, 20)\\nd = Member('park', 175, 80, 23)\",\n",
       " '_i16': 'Member._ins',\n",
       " '_16': [<__main__.Member at 0x280190316a0>,\n",
       "  <__main__.Member at 0x28019031eb0>,\n",
       "  <__main__.Member at 0x28019031610>,\n",
       "  <__main__.Member at 0x28017b00af0>],\n",
       " '_i17': \"height_mean = sum([m.height for m in Member._ins]) / len(Member._ins)\\nprint('height_mean : ',height_mean)\",\n",
       " 'height_mean': 171.25,\n",
       " '_i18': 'class Member():\\n    def __init__(self,height, weight, fat):\\n        self.height = height\\n        self.weight = weight\\n        self.fat = fat\\n        \\n    @property\\n    def bmi(self):\\n        height_in_meters = self.height / 100\\n        return self.weight / (height_in_meters * height_in_meters)\\n            ',\n",
       " '_i19': 'd = Member(175, 80, 23)\\nprint(d.bmi)',\n",
       " '_i20': 'class Member():\\n    def __init__(self,height, weight, fat):\\n        self.height = height\\n        self.weight = weight\\n        self.fat = fat\\n        \\n    @property\\n    def bmi(self):\\n        height_in_meters = self.height / 100\\n        return self.weight / (height_in_meters * height_in_meters)\\n    \\n    @bmi.setter\\n    def bmi(self,h):\\n        self.height = h\\n        height_in_meters = self.height / 100\\n        return self.weight / (height_in_meters * height_in_meters)\\n            ',\n",
       " '_i21': 'd = Member(175, 80, 23)\\nprint(d.bmi)',\n",
       " '_i22': 'print(d.bmi = 173)',\n",
       " '_i23': 'class Member():\\n    def __init__(self,height, weight, fat):\\n        self.height = height\\n        self.weight = weight\\n        self.fat = fat\\n        \\n    @property\\n    def bmi(self):\\n        height_in_meters = self.height / 100\\n        return self.weight / (height_in_meters * height_in_meters)\\n    \\n    @height.setter\\n    def height(self,h):\\n        self.height = h\\n            ',\n",
       " '_i24': 'class Member():\\n    def __init__(self,height, weight, fat):\\n        self._height = height\\n        self.weight = weight\\n        self.fat = fat\\n        \\n    @property\\n    def bmi(self):\\n        height_in_meters = self.height / 100\\n        return self.weight / (height_in_meters * height_in_meters)\\n    \\n    @height.setter\\n    def height(self,h):\\n        self._height = h\\n            ',\n",
       " '_i25': 'class Member():\\n    def __init__(self,height, weight, fat):\\n        self._height = height\\n        self.weight = weight\\n        self.fat = fat\\n        \\n    @property\\n    def bmi(self):\\n        height_in_meters = self.height / 100\\n        return self.weight / (height_in_meters * height_in_meters)\\n    \\n    @property\\n    def height(self):   \\n        return self._height\\n    \\n    @height.setter\\n    def height(self,h):\\n        self._height = h\\n            ',\n",
       " '_i26': 'd = Member(175, 80, 23)\\nprint(d.bmi)',\n",
       " '_i27': 'e = Member(-175, 80, 23)',\n",
       " 'e': <__main__.Member at 0x28018e6aa60>,\n",
       " '_i28': \"class Member():\\n    def __init__(self,height, weight, fat):\\n        self._height = height\\n        self.weight = weight\\n        self.fat = fat\\n        \\n    @property\\n    def bmi(self):\\n        height_in_meters = self.height / 100\\n        return self.weight / (height_in_meters * height_in_meters)\\n    \\n    @property\\n    def height(self):   \\n        return self._height\\n    \\n    @height.setter\\n    def height(self,h):\\n        if h < 0:\\n            print('warning negative height')\\n        self._height = h\\n            \",\n",
       " '_i29': \"class Member():\\n    def __init__(self,height, weight, fat):\\n        self._height = height\\n        self.weight = weight\\n        self.fat = fat\\n        \\n    @property\\n    def bmi(self):\\n        height_in_meters = self.height / 100\\n        return self.weight / (height_in_meters * height_in_meters)\\n    \\n    @property\\n    def height(self):   \\n        return self._height\\n    \\n    @height.setter\\n    def height(self,h):\\n        if h < 0:\\n            print('warning negative height')\\n        self._height = h\\n            \",\n",
       " '_i30': \"class Member():\\n    def __init__(self,height, weight, fat):\\n        self._height = height\\n        self.weight = weight\\n        self.fat = fat\\n        \\n    @property\\n    def bmi(self):\\n        height_in_meters = self.height / 100\\n        return self.weight / (height_in_meters * height_in_meters)\\n    \\n    @property\\n    def height(self):   \\n        return self._height\\n    \\n    @height.setter\\n    def height(self,h):\\n        if h < 0:\\n            print('warning negative height')\\n        self._height = h\\n            \",\n",
       " '_i31': 'd = Member(175, 80, 23)\\nprint(d.bmi)',\n",
       " '_i32': 'e = Member(-175, 80, 23)',\n",
       " '_i33': 'e.height = -100',\n",
       " '_i34': 'e.height',\n",
       " '_34': -100,\n",
       " '_i35': 'e._height',\n",
       " '_35': -100,\n",
       " '_i36': 'globals()',\n",
       " '_36': {...},\n",
       " '_i37': 'locals()'}"
      ]
     },
     "execution_count": 37,
     "metadata": {},
     "output_type": "execute_result"
    }
   ],
   "source": [
    "locals()"
   ]
  }
 ],
 "metadata": {
  "kernelspec": {
   "display_name": "edu_env",
   "language": "python",
   "name": "python3"
  },
  "language_info": {
   "codemirror_mode": {
    "name": "ipython",
    "version": 3
   },
   "file_extension": ".py",
   "mimetype": "text/x-python",
   "name": "python",
   "nbconvert_exporter": "python",
   "pygments_lexer": "ipython3",
   "version": "3.9.17"
  }
 },
 "nbformat": 4,
 "nbformat_minor": 2
}
