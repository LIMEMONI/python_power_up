{
 "cells": [
  {
   "cell_type": "markdown",
   "metadata": {},
   "source": [
    "## abstractmethod"
   ]
  },
  {
   "cell_type": "code",
   "execution_count": 2,
   "metadata": {},
   "outputs": [],
   "source": [
    "# abc 모듈을 가져옴\n",
    "from abc import ABC, abstractmethod\n",
    "\n",
    "# 추상 클래스인 MyAbstractClass를 정의\n",
    "class MyAbstractClass(ABC):\n",
    "    # 추상 메서드를 선언\n",
    "    @abstractmethod\n",
    "    def my_method(self):\n",
    "        pass\n",
    "\n",
    "# MyAbstractClass를 상속받는 MyConcreteClass를 정의\n",
    "class MyConcreteClass(MyAbstractClass):\n",
    "    # 추상 메서드를 구현\n",
    "    def my_method(self):\n",
    "        print(\"구체적인 클래스에서 추상 메서드를 구현\")\n"
   ]
  },
  {
   "cell_type": "code",
   "execution_count": 5,
   "metadata": {},
   "outputs": [
    {
     "ename": "TypeError",
     "evalue": "Can't instantiate abstract class MyAbstractClass with abstract method my_method",
     "output_type": "error",
     "traceback": [
      "\u001b[1;31m---------------------------------------------------------------------------\u001b[0m",
      "\u001b[1;31mTypeError\u001b[0m                                 Traceback (most recent call last)",
      "Cell \u001b[1;32mIn[5], line 1\u001b[0m\n\u001b[1;32m----> 1\u001b[0m test_instance \u001b[38;5;241m=\u001b[39m \u001b[43mMyAbstractClass\u001b[49m\u001b[43m(\u001b[49m\u001b[43m)\u001b[49m\n",
      "\u001b[1;31mTypeError\u001b[0m: Can't instantiate abstract class MyAbstractClass with abstract method my_method"
     ]
    }
   ],
   "source": [
    "# 추상 메서드를 부르는 경우 에러가 난다.\n",
    "\n",
    "test_instance = MyAbstractClass()"
   ]
  },
  {
   "cell_type": "code",
   "execution_count": 3,
   "metadata": {},
   "outputs": [],
   "source": [
    "# MyConcreteClass의 인스턴스를 생성\n",
    "my_instance = MyConcreteClass()\n"
   ]
  },
  {
   "cell_type": "code",
   "execution_count": 4,
   "metadata": {},
   "outputs": [
    {
     "name": "stdout",
     "output_type": "stream",
     "text": [
      "구체적인 클래스에서 추상 메서드를 구현\n"
     ]
    }
   ],
   "source": [
    "# MyConcreteClass의 추상 메서드를 호출\n",
    "my_instance.my_method()"
   ]
  },
  {
   "cell_type": "code",
   "execution_count": null,
   "metadata": {},
   "outputs": [],
   "source": []
  }
 ],
 "metadata": {
  "kernelspec": {
   "display_name": "edu_env",
   "language": "python",
   "name": "python3"
  },
  "language_info": {
   "codemirror_mode": {
    "name": "ipython",
    "version": 3
   },
   "file_extension": ".py",
   "mimetype": "text/x-python",
   "name": "python",
   "nbconvert_exporter": "python",
   "pygments_lexer": "ipython3",
   "version": "3.9.17"
  }
 },
 "nbformat": 4,
 "nbformat_minor": 2
}
