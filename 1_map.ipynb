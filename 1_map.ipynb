{
 "cells": [
  {
   "cell_type": "markdown",
   "metadata": {},
   "source": [
    "## map"
   ]
  },
  {
   "cell_type": "code",
   "execution_count": 1,
   "metadata": {},
   "outputs": [],
   "source": [
    "a = [2, 4, 6, 8, 10 ,12, 14, 16 ,17 ,20]"
   ]
  },
  {
   "cell_type": "code",
   "execution_count": 2,
   "metadata": {},
   "outputs": [],
   "source": [
    "# a 리스트의 각 요소를 제곱하여 새로운 리스트를 생성한다.\n",
    "a_square = list(map(lambda x: x**2, a))  "
   ]
  },
  {
   "cell_type": "code",
   "execution_count": null,
   "metadata": {},
   "outputs": [
    {
     "name": "stdout",
     "output_type": "stream",
     "text": [
      "a_square : [4, 16, 36, 64, 100, 144, 196, 256, 289, 400]\n"
     ]
    }
   ],
   "source": [
    "print('a_square : {}'.format(a_square))"
   ]
  },
  {
   "cell_type": "markdown",
   "metadata": {},
   "source": [
    "## lazy evaluation"
   ]
  },
  {
   "cell_type": "code",
   "execution_count": 2,
   "metadata": {},
   "outputs": [],
   "source": [
    "from random import uniform"
   ]
  },
  {
   "cell_type": "code",
   "execution_count": 4,
   "metadata": {},
   "outputs": [],
   "source": [
    "def random_hm():\n",
    "    return 170 + uniform(-10,10), 70 + uniform(-10,10)\n",
    "\n",
    "heavty_data = [random_hm() for i in range(100000)]"
   ]
  },
  {
   "cell_type": "code",
   "execution_count": 6,
   "metadata": {},
   "outputs": [
    {
     "name": "stdout",
     "output_type": "stream",
     "text": [
      "24.294168593242336\n"
     ]
    }
   ],
   "source": [
    "def BMI(data):\n",
    "    height, weight = data\n",
    "    return weight/((height/100)**2)\n",
    "\n",
    "BMIs = [BMI(item) for item in heavty_data]\n",
    "avg_BMIs = sum(BMIs)/len(BMIs)\n",
    "\n",
    "print(avg_BMIs)"
   ]
  },
  {
   "cell_type": "markdown",
   "metadata": {},
   "source": [
    "- heavy_data가 메모리를 많이 잡아먹는다"
   ]
  },
  {
   "cell_type": "code",
   "execution_count": 7,
   "metadata": {},
   "outputs": [
    {
     "name": "stdout",
     "output_type": "stream",
     "text": [
      "24.294168593242336\n"
     ]
    }
   ],
   "source": [
    "BMIs = map(BMI, heavty_data)\n",
    "sum_BMI = 0\n",
    "for i,b in enumerate(BMIs,1):\n",
    "    sum_BMI += b\n",
    "    avg_BMI = sum_BMI / i    \n",
    "\n",
    "print(avg_BMIs)"
   ]
  }
 ],
 "metadata": {
  "kernelspec": {
   "display_name": "edu_env",
   "language": "python",
   "name": "python3"
  },
  "language_info": {
   "codemirror_mode": {
    "name": "ipython",
    "version": 3
   },
   "file_extension": ".py",
   "mimetype": "text/x-python",
   "name": "python",
   "nbconvert_exporter": "python",
   "pygments_lexer": "ipython3",
   "version": "3.9.17"
  }
 },
 "nbformat": 4,
 "nbformat_minor": 2
}
