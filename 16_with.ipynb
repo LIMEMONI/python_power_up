{
 "cells": [
  {
   "cell_type": "markdown",
   "metadata": {},
   "source": [
    "## with"
   ]
  },
  {
   "cell_type": "code",
   "execution_count": 8,
   "metadata": {},
   "outputs": [],
   "source": [
    "import os"
   ]
  },
  {
   "cell_type": "code",
   "execution_count": 16,
   "metadata": {},
   "outputs": [
    {
     "name": "stdout",
     "output_type": "stream",
     "text": [
      "youtube~~naver\\\\methode\\\\code\\\\keyword\n",
      "hi\n",
      "my name is\n",
      "sejong\n"
     ]
    }
   ],
   "source": [
    "# with 문이 동작하는 동안에만 파일이 열려있다.\n",
    "\n",
    "with open('./data/text.txt', 'r') as fh: \n",
    "    print(fh.read())"
   ]
  },
  {
   "cell_type": "code",
   "execution_count": 28,
   "metadata": {},
   "outputs": [
    {
     "name": "stdout",
     "output_type": "stream",
     "text": [
      "Elapsed time:  5.004647731781006\n"
     ]
    }
   ],
   "source": [
    "import time\n",
    "\n",
    "class Timer():\n",
    "    def __init__(self):\n",
    "        pass\n",
    "    def __enter__(self):\n",
    "        self.start = time.time()  # 시작 시간 저장\n",
    "    def __exit__(self, exc_type, exc_val, exc_tb):\n",
    "        print(\"Elapsed time: \", time.time() - self.start)  # 경과 시간 출력\n",
    "        \n",
    "with Timer():\n",
    "    time.sleep(5)  # 5초 동안 대기"
   ]
  },
  {
   "cell_type": "markdown",
   "metadata": {},
   "source": [
    "`with` 문을 사용하기 위해 클래스를 정의할 때는 해당 클래스에 컨텍스트 관리자(context manager) 프로토콜을 구현해야 합니다. 이는 `__enter__` 메서드와 `__exit__` 메서드로 이루어져 있습니다.\n",
    "\n",
    "- **`__enter__` 메서드**: `with` 블록에 진입할 때 실행됩니다. 이 메서드는 컨텍스트 관리자가 관리하는 리소스를 초기화하고, 필요한 경우 리소스에 대한 참조나 다른 유용한 값을 반환할 수 있습니다.\n",
    "\n",
    "- **`__exit__` 메서드**: `with` 블록을 빠져나올 때 실행됩니다. 이 메서드는 세 개의 인자를 받아 예외 처리에 사용될 수 있습니다. 이 메서드는 리소스를 정리하고, `with` 블록 내에서 발생한 예외를 처리하는 데 사용됩니다. 예외 처리를 위해 `True`를 반환하면, 발생한 예외는 더 이상 외부로 전파되지 않습니다. `False` 또는 아무것도 반환하지 않으면 예외가 외부로 전파됩니다.\n",
    "\n",
    "컨텍스트 관리자를 사용하면 리소스의 할당과 해제를 명확하고 안전하게 처리할 수 있습니다. 예를 들어 파일 작업, 네트워크 연결, 세션 관리 등에서 매우 유용합니다. `with` 문은 이러한 리소스 관리를 위한 좋은 패턴을 제공하며, 코드의 가독성과 신뢰성을 향상시킵니다."
   ]
  },
  {
   "cell_type": "markdown",
   "metadata": {},
   "source": [
    "`__exit__` 메서드는 컨텍스트 관리자가 `with` 블록을 빠져나올 때 실행됩니다. 이 메서드는 세 개의 매개변수 `exc_type`, `exc_val`, `exc_tb`를 받습니다. 이들은 `with` 블록 내부에서 발생할 수 있는 예외에 대한 정보를 담고 있습니다:\n",
    "\n",
    "1. **`exc_type`**: 예외의 타입을 나타냅니다. 예외가 발생하지 않은 경우 `None`입니다.\n",
    "\n",
    "2. **`exc_val`**: 예외의 값(value)을 나타내며, 예외 객체 자체입니다. 예외가 발생하지 않은 경우 `None`입니다.\n",
    "\n",
    "3. **`exc_tb`**: 예외가 발생한 트레이스백(traceback)의 정보를 담고 있는 객체입니다. 예외가 발생하지 않은 경우 `None`입니다.\n",
    "\n",
    "`__exit__` 메서드에서 이 매개변수들을 사용하면 `with` 블록 내에서 발생한 예외를 처리하거나 로깅할 수 있습니다. 또한, 이 메서드는 예외를 처리했음을 나타내기 위해 `True`를 반환할 수 있으며, 그렇지 않으면 `False`나 `None`을 반환하여 예외가 외부로 전파되게 할 수 있습니다.\n",
    "\n",
    "위 코드에서는 `__exit__` 메서드에서 이러한 예외 정보를 사용하고 있지 않으므로, `with` 블록 내에서 발생하는 예외는 `__exit__` 메서드에 의해 처리되지 않고 외부로 전파됩니다. 대신, `__exit__` 메서드는 경과 시간을 출력하는 데 사용되고 있습니다."
   ]
  },
  {
   "cell_type": "code",
   "execution_count": 20,
   "metadata": {},
   "outputs": [
    {
     "name": "stdout",
     "output_type": "stream",
     "text": [
      "Elapsed time:  3.8075006008148193\n"
     ]
    }
   ],
   "source": [
    "with Timer():\n",
    "    time.sleep(3.79531)"
   ]
  },
  {
   "cell_type": "markdown",
   "metadata": {},
   "source": []
  }
 ],
 "metadata": {
  "kernelspec": {
   "display_name": "edu_env",
   "language": "python",
   "name": "python3"
  },
  "language_info": {
   "codemirror_mode": {
    "name": "ipython",
    "version": 3
   },
   "file_extension": ".py",
   "mimetype": "text/x-python",
   "name": "python",
   "nbconvert_exporter": "python",
   "pygments_lexer": "ipython3",
   "version": "3.9.17"
  }
 },
 "nbformat": 4,
 "nbformat_minor": 2
}
