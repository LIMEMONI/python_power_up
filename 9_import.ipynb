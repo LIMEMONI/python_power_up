{
 "cells": [
  {
   "cell_type": "markdown",
   "metadata": {},
   "source": [
    "## import"
   ]
  },
  {
   "cell_type": "code",
   "execution_count": 2,
   "metadata": {},
   "outputs": [
    {
     "name": "stdout",
     "output_type": "stream",
     "text": [
      "test\n"
     ]
    }
   ],
   "source": [
    "# test용코드에는 아래 코드를 넣자\n",
    "# import 된 경우에는 해당 아래 코드가 실행되지 않는다.\n",
    "\n",
    "if __name__ == '__main__':\n",
    "    print(\"test\")"
   ]
  },
  {
   "cell_type": "markdown",
   "metadata": {},
   "source": [
    "파이썬에서 `__init__.py` 파일은 특정 폴더를 파이썬 패키지로 인식하게 하는 역할을 합니다. 이 파일이 있는 폴더는 파이썬에서 모듈로서 임포트(import)할 수 있게 됩니다. 또한, 폴더(패키지)가 임포트될 때 `__init__.py` 파일에 있는 코드가 자동으로 실행됩니다.\n",
    "\n",
    "이는 패키지 초기화에 유용하게 사용됩니다. 예를 들어, 패키지에 속한 모듈들에 필요한 초기 설정이나 변수, 함수 등을 `__init__.py`에 정의할 수 있습니다. 그리고 해당 패키지를 임포트할 때 이 초기 설정들이 자동으로 적용됩니다.\n",
    "\n",
    "### 예시:\n",
    "패키지 구조가 다음과 같다고 가정해 보겠습니다:\n",
    "```\n",
    "mypackage/\n",
    "├── __init__.py\n",
    "├── module1.py\n",
    "└── module2.py\n",
    "```\n",
    "\n",
    "`__init__.py` 파일에 다음과 같은 코드가 있다고 합시다:\n",
    "```python\n",
    "print(\"Initializing mypackage\")\n",
    "```\n",
    "\n",
    "이제 어떤 다른 스크립트에서 `import mypackage`를 수행하면, \"Initializing mypackage\"가 출력됩니다. 이는 `__init__.py` 파일이 실행되었음을 의미합니다.\n",
    "\n",
    "파이썬 3.3 이상에서는 `__init__.py` 파일이 없어도 폴더를 패키지로 인식하는 '네임스페이스 패키지' 기능이 추가되었습니다. 하지만 여전히 `__init__.py`를 사용하는 것이 일반적이며, 특히 패키지 초기화 코드가 필요한 경우에는 필수적입니다."
   ]
  },
  {
   "cell_type": "markdown",
   "metadata": {},
   "source": [
    "`from myproject`와 `from .myproject` 사이의 차이는 절대 임포트(absolute import)와 상대 임포트(relative import)의 차이를 반영합니다. 이들 간의 주요 차이는 다음과 같습니다:\n",
    "\n",
    "### 1. `from myproject`\n",
    "- **절대 임포트**를 사용합니다.\n",
    "- 이는 `myproject`라는 이름의 모듈이나 패키지를 Python의 모듈 검색 경로에서 찾습니다.\n",
    "- 예를 들어, `from myproject import module1`는 Python 인터프리터가 모듈 검색 경로에서 `myproject` 패키지를 찾고, 그 안의 `module1`을 임포트합니다.\n",
    "- 절대 임포트는 모듈의 위치와 상관없이 동일한 방식으로 작동합니다.\n",
    "\n",
    "### 2. `from .myproject`\n",
    "- **상대 임포트**를 사용합니다.\n",
    "- `.`는 현재 디렉토리, 즉 현재 모듈이 위치한 디렉토리를 나타냅니다.\n",
    "- `from .myproject import module1`는 현재 디렉토리에 있는 `myproject`라는 이름의 서브 디렉토리(또는 패키지)에서 `module1`을 임포트합니다.\n",
    "- 상대 임포트는 현재 모듈의 위치에 대한 상대적인 위치를 기반으로 작동합니다. 따라서 이 방식을 사용할 때는 모듈의 위치를 정확히 알고 있어야 합니다.\n",
    "\n",
    "### 사용 시 주의사항\n",
    "- `from .myproject` 형태의 상대 임포트는 주로 패키지 내부에서 다른 서브 모듈이나 서브 패키지를 참조할 때 사용합니다. 이런 방식은 패키지의 구조가 변경되어도 다른 부분에 미치는 영향을 최소화할 수 있습니다.\n",
    "- 상대 임포트를 사용하는 경우, 모듈이나 스크립트가 Python 인터프리터에 의해 직접 실행되는 최상위 스크립트가 아니어야 합니다. 최상위 스크립트에서는 상대 경로가 정의되지 않기 때문에 상대 임포트를 사용할 수 없습니다.\n",
    "- 절대 임포트를 사용하는 것이 일반적으로 권장되며, 이는 코드의 명확성과 이식성을 향상시킵니다. 반면, 상대 임포트는 특정 상황에서 패키지 내부의 모듈 관계를 더 명확히 나타내는 데 유용할 수 있습니다."
   ]
  },
  {
   "cell_type": "code",
   "execution_count": null,
   "metadata": {},
   "outputs": [],
   "source": []
  },
  {
   "cell_type": "code",
   "execution_count": null,
   "metadata": {},
   "outputs": [],
   "source": []
  },
  {
   "cell_type": "code",
   "execution_count": null,
   "metadata": {},
   "outputs": [],
   "source": []
  },
  {
   "cell_type": "code",
   "execution_count": null,
   "metadata": {},
   "outputs": [],
   "source": []
  },
  {
   "cell_type": "code",
   "execution_count": null,
   "metadata": {},
   "outputs": [],
   "source": []
  },
  {
   "cell_type": "code",
   "execution_count": null,
   "metadata": {},
   "outputs": [],
   "source": []
  },
  {
   "cell_type": "code",
   "execution_count": null,
   "metadata": {},
   "outputs": [],
   "source": []
  },
  {
   "cell_type": "code",
   "execution_count": null,
   "metadata": {},
   "outputs": [],
   "source": []
  }
 ],
 "metadata": {
  "kernelspec": {
   "display_name": "edu_env",
   "language": "python",
   "name": "python3"
  },
  "language_info": {
   "codemirror_mode": {
    "name": "ipython",
    "version": 3
   },
   "file_extension": ".py",
   "mimetype": "text/x-python",
   "name": "python",
   "nbconvert_exporter": "python",
   "pygments_lexer": "ipython3",
   "version": "3.9.17"
  }
 },
 "nbformat": 4,
 "nbformat_minor": 2
}
