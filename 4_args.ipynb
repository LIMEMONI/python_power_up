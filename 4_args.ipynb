{
 "cells": [
  {
   "cell_type": "markdown",
   "metadata": {},
   "source": [
    "## args"
   ]
  },
  {
   "cell_type": "code",
   "execution_count": 1,
   "metadata": {},
   "outputs": [],
   "source": [
    "def plane(a,b,c,d):\n",
    "    print('{}x + {}y + {}z = {}'.format(a,b,c,d))   "
   ]
  },
  {
   "cell_type": "code",
   "execution_count": 3,
   "metadata": {},
   "outputs": [
    {
     "name": "stdout",
     "output_type": "stream",
     "text": [
      "3x + 5.1y + -8.2z = 2.6\n",
      "3x + 5.1y + -8.2z = 2.6\n"
     ]
    }
   ],
   "source": [
    "# plane 함수를 호출하고, 인자로 리스트 [3, 5.1, -8.2, 2.6]을 전달한다.\n",
    "plane(*[3, 5.1, -8.2, 2.6]) # 값을 집어넣을 때 list와 tuple의 []()를 제거하는 작용\n",
    "plane(3, 5.1, -8.2, 2.6)"
   ]
  },
  {
   "cell_type": "markdown",
   "metadata": {},
   "source": [
    "### starred assignments"
   ]
  },
  {
   "cell_type": "code",
   "execution_count": 4,
   "metadata": {},
   "outputs": [],
   "source": [
    "# a에는 3이 할당되고, 나머지 값들은 리스트 b에 할당됩니다.\n",
    "a, *b = 3, 4, 5  "
   ]
  },
  {
   "cell_type": "code",
   "execution_count": 5,
   "metadata": {},
   "outputs": [
    {
     "name": "stdout",
     "output_type": "stream",
     "text": [
      "3\n",
      "[4, 5]\n"
     ]
    }
   ],
   "source": [
    "print(a)\n",
    "print(b)"
   ]
  },
  {
   "cell_type": "code",
   "execution_count": 9,
   "metadata": {},
   "outputs": [
    {
     "name": "stdout",
     "output_type": "stream",
     "text": [
      "3\n",
      "[]\n",
      "4\n"
     ]
    }
   ],
   "source": [
    "# a에는 3이 할당되고, 나머지 값들은 b에 리스트 형태로 할당되고, c에는 4가 할당됩니다.\n",
    "a, *b, c = 3, 4  \n",
    "print(a)\n",
    "print(b)\n",
    "print(c)"
   ]
  },
  {
   "cell_type": "code",
   "execution_count": 10,
   "metadata": {},
   "outputs": [
    {
     "name": "stdout",
     "output_type": "stream",
     "text": [
      "3\n",
      "4\n",
      "[]\n"
     ]
    }
   ],
   "source": [
    "# a에는 3이 할당되고, b에는 4가 할당됩니다. *c는 나머지 값들을 리스트로 할당합니다.\n",
    "a, b, *c = 3, 4  \n",
    "print(a)\n",
    "print(b)\n",
    "print(c)"
   ]
  },
  {
   "cell_type": "code",
   "execution_count": 11,
   "metadata": {},
   "outputs": [],
   "source": [
    "def tmp_def(a,b,c,*d):\n",
    "    print('a = {}'.format(a))\n",
    "    print('b = {}'.format(b))\n",
    "    print('c = {}'.format(c))\n",
    "    print('d = {}'.format(d))"
   ]
  },
  {
   "cell_type": "code",
   "execution_count": 12,
   "metadata": {},
   "outputs": [
    {
     "name": "stdout",
     "output_type": "stream",
     "text": [
      "a = 1\n",
      "b = 2\n",
      "c = 3\n",
      "d = (4, 5, 6, 7, 8)\n"
     ]
    }
   ],
   "source": [
    "tmp_def(1,2,3,4,5,6,7,8)"
   ]
  },
  {
   "cell_type": "markdown",
   "metadata": {},
   "source": [
    "- 필수적인 argument를 제외하고는 star를 이용해서 list로 제한없이 받는 방법을 사용할 수 있다."
   ]
  },
  {
   "cell_type": "markdown",
   "metadata": {},
   "source": [
    "## ** arguments"
   ]
  },
  {
   "cell_type": "code",
   "execution_count": 13,
   "metadata": {},
   "outputs": [],
   "source": [
    "def plane(a,b,c,d):\n",
    "    print('{}x + {}y + {}z = {}'.format(a,b,c,d))   "
   ]
  },
  {
   "cell_type": "code",
   "execution_count": 14,
   "metadata": {},
   "outputs": [
    {
     "name": "stdout",
     "output_type": "stream",
     "text": [
      "1x + 2y + 3z = 4\n"
     ]
    }
   ],
   "source": [
    "# plane 함수를 호출하고, 키워드 인수로 {'a': 1, 'b': 2, 'c': 3, 'd': 4}를 전달한다.\n",
    "plane(**{'a': 1, 'b': 2, 'c': 3, 'd':   4})  "
   ]
  },
  {
   "cell_type": "code",
   "execution_count": 15,
   "metadata": {},
   "outputs": [],
   "source": [
    "def func(a, **b):\n",
    "    print('a = ', a)\n",
    "    print('b = ', b)"
   ]
  },
  {
   "cell_type": "code",
   "execution_count": 16,
   "metadata": {},
   "outputs": [
    {
     "name": "stdout",
     "output_type": "stream",
     "text": [
      "a =  2\n",
      "b =  {'c': 3, 'd': 4}\n"
     ]
    }
   ],
   "source": [
    "func(2, c=3, d=4) # 명시한 적이 없는 변수를 넣으면 **argument로 넣어서 dictionary로 만들어준다."
   ]
  },
  {
   "cell_type": "code",
   "execution_count": 17,
   "metadata": {},
   "outputs": [],
   "source": [
    "def func(a, *b, c=3, **k):\n",
    "    print('a = ', a)\n",
    "    print('b = ', b)\n",
    "    print('c = ', c)\n",
    "    print('k = ', k)"
   ]
  },
  {
   "cell_type": "code",
   "execution_count": 18,
   "metadata": {},
   "outputs": [
    {
     "name": "stdout",
     "output_type": "stream",
     "text": [
      "a =  1\n",
      "b =  (4, 5, 3, 2)\n",
      "c =  8\n",
      "k =  {'f': 4, 'g': 3, 'z': 33}\n"
     ]
    }
   ],
   "source": [
    "# 첫순서로 들어가 1은 a에 할당\n",
    "# c로 명시된 8은 c로 할당\n",
    "# 변수로 할당되지 않은 f g z는 k에 딕셔너리로 할당 (keyword arguments)\n",
    "# 나머지 숫자는 b에 list로 할당 (positional arguments)\n",
    "\n",
    "func(1,4,5,3,2,c=8,f=4,g=3,z=33)"
   ]
  }
 ],
 "metadata": {
  "kernelspec": {
   "display_name": "edu_env",
   "language": "python",
   "name": "python3"
  },
  "language_info": {
   "codemirror_mode": {
    "name": "ipython",
    "version": 3
   },
   "file_extension": ".py",
   "mimetype": "text/x-python",
   "name": "python",
   "nbconvert_exporter": "python",
   "pygments_lexer": "ipython3",
   "version": "3.9.17"
  }
 },
 "nbformat": 4,
 "nbformat_minor": 2
}
